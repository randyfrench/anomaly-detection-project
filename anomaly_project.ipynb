{
 "cells": [
  {
   "cell_type": "markdown",
   "id": "8fb14f51",
   "metadata": {},
   "source": [
    "### Email Project\n",
    "Hello,\n",
    "\n",
    "I have some questions for you that I need to be answered before the board meeting Friday afternoon. I need to be able to speak to the following questions. I also need a single slide that I can incorporate into my existing presentation (Google Slides) that summarizes the most important points. My questions are listed below; however, if you discover anything else important that I didn’t think to ask, please include that as well.\n",
    "\n",
    "\n",
    "- 1. Which lesson appears to attract the most traffic consistently across cohorts (per program)?\n",
    "- 2. Is there a cohort that referred to a lesson significantly more than other cohorts seemed to gloss over?\n",
    "- 3. Are there students who, when active, hardly access the curriculum? If so, what information do you have about these students?\n",
    "- 4. Is there any suspicious activity, such as users/machines/etc accessing the curriculum who shouldn’t be? Does it appear that any web-scraping is happening? Are there any suspicious IP addresses?\n",
    "- 5. At some point in 2019, the ability for students and alumni to access both curriculums (web dev to ds, ds to web dev) should have been shut off. Do you see any evidence of that happening? Did it happen before?\n",
    "- 6. What topics are grads continuing to reference after graduation and into their jobs (for each program)?\n",
    "- 7. Which lessons are least accessed?\n",
    "- 8. Anything else I should be aware of?\n",
    "\n",
    "\n",
    "Thank you,"
   ]
  },
  {
   "cell_type": "code",
   "execution_count": 1,
   "id": "bc6fb8c1",
   "metadata": {},
   "outputs": [],
   "source": [
    "import matplotlib.pyplot as plt\n",
    "import numpy as np\n",
    "import pandas as pd\n",
    "import seaborn as sns\n",
    "from sklearn import metrics\n",
    "import acquire as a\n",
    "import env"
   ]
  },
  {
   "cell_type": "markdown",
   "id": "985bd146",
   "metadata": {},
   "source": [
    "## Acquire"
   ]
  },
  {
   "cell_type": "code",
   "execution_count": 2,
   "id": "00f4282c",
   "metadata": {},
   "outputs": [],
   "source": [
    "# Read csv file into pandas DataFrame\n",
    "\n",
    "#url = f'mysql+pymysql://{env.user}:{env.password}@{env.host}/curriculum_logs'\n",
    "#query = 'SELECT * FROM logs JOIN cohorts on logs.cohort_id = cohorts.id'\n",
    "#df = pd.read_sql('SELECT * FROM logs JOIN cohorts on logs.cohort_id = cohorts.id', url)\n",
    "#df = pd.read_sql(query, url)\n",
    "\n",
    "df = a.get_log_data()"
   ]
  },
  {
   "cell_type": "code",
   "execution_count": 3,
   "id": "76fcc8d1",
   "metadata": {},
   "outputs": [
    {
     "data": {
      "text/html": [
       "<div>\n",
       "<style scoped>\n",
       "    .dataframe tbody tr th:only-of-type {\n",
       "        vertical-align: middle;\n",
       "    }\n",
       "\n",
       "    .dataframe tbody tr th {\n",
       "        vertical-align: top;\n",
       "    }\n",
       "\n",
       "    .dataframe thead th {\n",
       "        text-align: right;\n",
       "    }\n",
       "</style>\n",
       "<table border=\"1\" class=\"dataframe\">\n",
       "  <thead>\n",
       "    <tr style=\"text-align: right;\">\n",
       "      <th></th>\n",
       "      <th>date</th>\n",
       "      <th>time</th>\n",
       "      <th>path</th>\n",
       "      <th>user_id</th>\n",
       "      <th>cohort_id</th>\n",
       "      <th>ip</th>\n",
       "      <th>id</th>\n",
       "      <th>name</th>\n",
       "      <th>slack</th>\n",
       "      <th>start_date</th>\n",
       "      <th>end_date</th>\n",
       "      <th>created_at</th>\n",
       "      <th>updated_at</th>\n",
       "      <th>deleted_at</th>\n",
       "      <th>program_id</th>\n",
       "    </tr>\n",
       "  </thead>\n",
       "  <tbody>\n",
       "    <tr>\n",
       "      <th>0</th>\n",
       "      <td>2018-01-26</td>\n",
       "      <td>09:55:03</td>\n",
       "      <td>/</td>\n",
       "      <td>1</td>\n",
       "      <td>8.0</td>\n",
       "      <td>97.105.19.61</td>\n",
       "      <td>8</td>\n",
       "      <td>Hampton</td>\n",
       "      <td>#hampton</td>\n",
       "      <td>2015-09-22</td>\n",
       "      <td>2016-02-06</td>\n",
       "      <td>2016-06-14 19:52:26</td>\n",
       "      <td>2016-06-14 19:52:26</td>\n",
       "      <td>None</td>\n",
       "      <td>1</td>\n",
       "    </tr>\n",
       "    <tr>\n",
       "      <th>1</th>\n",
       "      <td>2018-01-26</td>\n",
       "      <td>09:56:02</td>\n",
       "      <td>java-ii</td>\n",
       "      <td>1</td>\n",
       "      <td>8.0</td>\n",
       "      <td>97.105.19.61</td>\n",
       "      <td>8</td>\n",
       "      <td>Hampton</td>\n",
       "      <td>#hampton</td>\n",
       "      <td>2015-09-22</td>\n",
       "      <td>2016-02-06</td>\n",
       "      <td>2016-06-14 19:52:26</td>\n",
       "      <td>2016-06-14 19:52:26</td>\n",
       "      <td>None</td>\n",
       "      <td>1</td>\n",
       "    </tr>\n",
       "    <tr>\n",
       "      <th>2</th>\n",
       "      <td>2018-01-26</td>\n",
       "      <td>09:56:05</td>\n",
       "      <td>java-ii/object-oriented-programming</td>\n",
       "      <td>1</td>\n",
       "      <td>8.0</td>\n",
       "      <td>97.105.19.61</td>\n",
       "      <td>8</td>\n",
       "      <td>Hampton</td>\n",
       "      <td>#hampton</td>\n",
       "      <td>2015-09-22</td>\n",
       "      <td>2016-02-06</td>\n",
       "      <td>2016-06-14 19:52:26</td>\n",
       "      <td>2016-06-14 19:52:26</td>\n",
       "      <td>None</td>\n",
       "      <td>1</td>\n",
       "    </tr>\n",
       "    <tr>\n",
       "      <th>3</th>\n",
       "      <td>2018-01-26</td>\n",
       "      <td>09:56:06</td>\n",
       "      <td>slides/object_oriented_programming</td>\n",
       "      <td>1</td>\n",
       "      <td>8.0</td>\n",
       "      <td>97.105.19.61</td>\n",
       "      <td>8</td>\n",
       "      <td>Hampton</td>\n",
       "      <td>#hampton</td>\n",
       "      <td>2015-09-22</td>\n",
       "      <td>2016-02-06</td>\n",
       "      <td>2016-06-14 19:52:26</td>\n",
       "      <td>2016-06-14 19:52:26</td>\n",
       "      <td>None</td>\n",
       "      <td>1</td>\n",
       "    </tr>\n",
       "    <tr>\n",
       "      <th>4</th>\n",
       "      <td>2018-01-26</td>\n",
       "      <td>09:56:24</td>\n",
       "      <td>javascript-i/conditionals</td>\n",
       "      <td>2</td>\n",
       "      <td>22.0</td>\n",
       "      <td>97.105.19.61</td>\n",
       "      <td>22</td>\n",
       "      <td>Teddy</td>\n",
       "      <td>#teddy</td>\n",
       "      <td>2018-01-08</td>\n",
       "      <td>2018-05-17</td>\n",
       "      <td>2018-01-08 13:59:10</td>\n",
       "      <td>2018-01-08 13:59:10</td>\n",
       "      <td>None</td>\n",
       "      <td>2</td>\n",
       "    </tr>\n",
       "  </tbody>\n",
       "</table>\n",
       "</div>"
      ],
      "text/plain": [
       "         date      time                                 path  user_id  \\\n",
       "0  2018-01-26  09:55:03                                    /        1   \n",
       "1  2018-01-26  09:56:02                              java-ii        1   \n",
       "2  2018-01-26  09:56:05  java-ii/object-oriented-programming        1   \n",
       "3  2018-01-26  09:56:06   slides/object_oriented_programming        1   \n",
       "4  2018-01-26  09:56:24            javascript-i/conditionals        2   \n",
       "\n",
       "   cohort_id            ip  id     name     slack  start_date    end_date  \\\n",
       "0        8.0  97.105.19.61   8  Hampton  #hampton  2015-09-22  2016-02-06   \n",
       "1        8.0  97.105.19.61   8  Hampton  #hampton  2015-09-22  2016-02-06   \n",
       "2        8.0  97.105.19.61   8  Hampton  #hampton  2015-09-22  2016-02-06   \n",
       "3        8.0  97.105.19.61   8  Hampton  #hampton  2015-09-22  2016-02-06   \n",
       "4       22.0  97.105.19.61  22    Teddy    #teddy  2018-01-08  2018-05-17   \n",
       "\n",
       "            created_at           updated_at deleted_at  program_id  \n",
       "0  2016-06-14 19:52:26  2016-06-14 19:52:26       None           1  \n",
       "1  2016-06-14 19:52:26  2016-06-14 19:52:26       None           1  \n",
       "2  2016-06-14 19:52:26  2016-06-14 19:52:26       None           1  \n",
       "3  2016-06-14 19:52:26  2016-06-14 19:52:26       None           1  \n",
       "4  2018-01-08 13:59:10  2018-01-08 13:59:10       None           2  "
      ]
     },
     "execution_count": 3,
     "metadata": {},
     "output_type": "execute_result"
    }
   ],
   "source": [
    "df.head()"
   ]
  },
  {
   "cell_type": "code",
   "execution_count": 4,
   "id": "ba884fae",
   "metadata": {},
   "outputs": [
    {
     "name": "stdout",
     "output_type": "stream",
     "text": [
      "<class 'pandas.core.frame.DataFrame'>\n",
      "RangeIndex: 847330 entries, 0 to 847329\n",
      "Data columns (total 15 columns):\n",
      " #   Column      Non-Null Count   Dtype  \n",
      "---  ------      --------------   -----  \n",
      " 0   date        847330 non-null  object \n",
      " 1   time        847330 non-null  object \n",
      " 2   path        847329 non-null  object \n",
      " 3   user_id     847330 non-null  int64  \n",
      " 4   cohort_id   847330 non-null  float64\n",
      " 5   ip          847330 non-null  object \n",
      " 6   id          847330 non-null  int64  \n",
      " 7   name        847330 non-null  object \n",
      " 8   slack       847330 non-null  object \n",
      " 9   start_date  847330 non-null  object \n",
      " 10  end_date    847330 non-null  object \n",
      " 11  created_at  847330 non-null  object \n",
      " 12  updated_at  847330 non-null  object \n",
      " 13  deleted_at  0 non-null       object \n",
      " 14  program_id  847330 non-null  int64  \n",
      "dtypes: float64(1), int64(3), object(11)\n",
      "memory usage: 97.0+ MB\n"
     ]
    }
   ],
   "source": [
    "df.info()"
   ]
  },
  {
   "cell_type": "markdown",
   "id": "12647b69",
   "metadata": {},
   "source": [
    "### Takeaways from Aquire:\n",
    "- date is not in date format\n",
    "- may need to change Dtype for other columns\n",
    "- only one null, will leave it\n",
    "- deleted_at column is all null, will delete the column\n",
    "\n",
    "*****************************\n",
    "\n",
    "## Prepare/Look at the data"
   ]
  },
  {
   "cell_type": "code",
   "execution_count": 5,
   "id": "dea11283",
   "metadata": {},
   "outputs": [],
   "source": [
    "# there is a date and time columns, will add them together\n",
    "df['date'] = df.date + ' ' + df.time"
   ]
  },
  {
   "cell_type": "code",
   "execution_count": 6,
   "id": "e2b8adc2",
   "metadata": {},
   "outputs": [],
   "source": [
    "# next set date to date Dtype and set as the index\n",
    "df.date = pd.to_datetime(df.date)\n",
    "df = df.set_index(df.date)"
   ]
  },
  {
   "cell_type": "code",
   "execution_count": 7,
   "id": "88aba340",
   "metadata": {},
   "outputs": [],
   "source": [
    "# drop the columns that have been converted to index\n",
    "df = df.drop(columns=['date', 'time'])"
   ]
  },
  {
   "cell_type": "code",
   "execution_count": 8,
   "id": "26e476bc",
   "metadata": {},
   "outputs": [],
   "source": [
    "# deleting the column that is all null\n",
    "df = df.drop(columns=['deleted_at'])"
   ]
  },
  {
   "cell_type": "code",
   "execution_count": 9,
   "id": "5fd9910a",
   "metadata": {},
   "outputs": [],
   "source": [
    "# deleting the column id as it is the same as cohort_id\n",
    "df = df.drop(columns=['id'])"
   ]
  },
  {
   "cell_type": "code",
   "execution_count": 10,
   "id": "050a7a07",
   "metadata": {},
   "outputs": [
    {
     "data": {
      "text/html": [
       "<div>\n",
       "<style scoped>\n",
       "    .dataframe tbody tr th:only-of-type {\n",
       "        vertical-align: middle;\n",
       "    }\n",
       "\n",
       "    .dataframe tbody tr th {\n",
       "        vertical-align: top;\n",
       "    }\n",
       "\n",
       "    .dataframe thead th {\n",
       "        text-align: right;\n",
       "    }\n",
       "</style>\n",
       "<table border=\"1\" class=\"dataframe\">\n",
       "  <thead>\n",
       "    <tr style=\"text-align: right;\">\n",
       "      <th></th>\n",
       "      <th>path</th>\n",
       "      <th>user_id</th>\n",
       "      <th>cohort_id</th>\n",
       "      <th>ip</th>\n",
       "      <th>name</th>\n",
       "      <th>slack</th>\n",
       "      <th>start_date</th>\n",
       "      <th>end_date</th>\n",
       "      <th>created_at</th>\n",
       "      <th>updated_at</th>\n",
       "      <th>program_id</th>\n",
       "    </tr>\n",
       "    <tr>\n",
       "      <th>date</th>\n",
       "      <th></th>\n",
       "      <th></th>\n",
       "      <th></th>\n",
       "      <th></th>\n",
       "      <th></th>\n",
       "      <th></th>\n",
       "      <th></th>\n",
       "      <th></th>\n",
       "      <th></th>\n",
       "      <th></th>\n",
       "      <th></th>\n",
       "    </tr>\n",
       "  </thead>\n",
       "  <tbody>\n",
       "    <tr>\n",
       "      <th>2018-01-26 09:55:03</th>\n",
       "      <td>/</td>\n",
       "      <td>1</td>\n",
       "      <td>8.0</td>\n",
       "      <td>97.105.19.61</td>\n",
       "      <td>Hampton</td>\n",
       "      <td>#hampton</td>\n",
       "      <td>2015-09-22</td>\n",
       "      <td>2016-02-06</td>\n",
       "      <td>2016-06-14 19:52:26</td>\n",
       "      <td>2016-06-14 19:52:26</td>\n",
       "      <td>1</td>\n",
       "    </tr>\n",
       "    <tr>\n",
       "      <th>2018-01-26 09:56:02</th>\n",
       "      <td>java-ii</td>\n",
       "      <td>1</td>\n",
       "      <td>8.0</td>\n",
       "      <td>97.105.19.61</td>\n",
       "      <td>Hampton</td>\n",
       "      <td>#hampton</td>\n",
       "      <td>2015-09-22</td>\n",
       "      <td>2016-02-06</td>\n",
       "      <td>2016-06-14 19:52:26</td>\n",
       "      <td>2016-06-14 19:52:26</td>\n",
       "      <td>1</td>\n",
       "    </tr>\n",
       "    <tr>\n",
       "      <th>2018-01-26 09:56:05</th>\n",
       "      <td>java-ii/object-oriented-programming</td>\n",
       "      <td>1</td>\n",
       "      <td>8.0</td>\n",
       "      <td>97.105.19.61</td>\n",
       "      <td>Hampton</td>\n",
       "      <td>#hampton</td>\n",
       "      <td>2015-09-22</td>\n",
       "      <td>2016-02-06</td>\n",
       "      <td>2016-06-14 19:52:26</td>\n",
       "      <td>2016-06-14 19:52:26</td>\n",
       "      <td>1</td>\n",
       "    </tr>\n",
       "    <tr>\n",
       "      <th>2018-01-26 09:56:06</th>\n",
       "      <td>slides/object_oriented_programming</td>\n",
       "      <td>1</td>\n",
       "      <td>8.0</td>\n",
       "      <td>97.105.19.61</td>\n",
       "      <td>Hampton</td>\n",
       "      <td>#hampton</td>\n",
       "      <td>2015-09-22</td>\n",
       "      <td>2016-02-06</td>\n",
       "      <td>2016-06-14 19:52:26</td>\n",
       "      <td>2016-06-14 19:52:26</td>\n",
       "      <td>1</td>\n",
       "    </tr>\n",
       "    <tr>\n",
       "      <th>2018-01-26 09:56:24</th>\n",
       "      <td>javascript-i/conditionals</td>\n",
       "      <td>2</td>\n",
       "      <td>22.0</td>\n",
       "      <td>97.105.19.61</td>\n",
       "      <td>Teddy</td>\n",
       "      <td>#teddy</td>\n",
       "      <td>2018-01-08</td>\n",
       "      <td>2018-05-17</td>\n",
       "      <td>2018-01-08 13:59:10</td>\n",
       "      <td>2018-01-08 13:59:10</td>\n",
       "      <td>2</td>\n",
       "    </tr>\n",
       "  </tbody>\n",
       "</table>\n",
       "</div>"
      ],
      "text/plain": [
       "                                                    path  user_id  cohort_id  \\\n",
       "date                                                                           \n",
       "2018-01-26 09:55:03                                    /        1        8.0   \n",
       "2018-01-26 09:56:02                              java-ii        1        8.0   \n",
       "2018-01-26 09:56:05  java-ii/object-oriented-programming        1        8.0   \n",
       "2018-01-26 09:56:06   slides/object_oriented_programming        1        8.0   \n",
       "2018-01-26 09:56:24            javascript-i/conditionals        2       22.0   \n",
       "\n",
       "                               ip     name     slack  start_date    end_date  \\\n",
       "date                                                                           \n",
       "2018-01-26 09:55:03  97.105.19.61  Hampton  #hampton  2015-09-22  2016-02-06   \n",
       "2018-01-26 09:56:02  97.105.19.61  Hampton  #hampton  2015-09-22  2016-02-06   \n",
       "2018-01-26 09:56:05  97.105.19.61  Hampton  #hampton  2015-09-22  2016-02-06   \n",
       "2018-01-26 09:56:06  97.105.19.61  Hampton  #hampton  2015-09-22  2016-02-06   \n",
       "2018-01-26 09:56:24  97.105.19.61    Teddy    #teddy  2018-01-08  2018-05-17   \n",
       "\n",
       "                              created_at           updated_at  program_id  \n",
       "date                                                                       \n",
       "2018-01-26 09:55:03  2016-06-14 19:52:26  2016-06-14 19:52:26           1  \n",
       "2018-01-26 09:56:02  2016-06-14 19:52:26  2016-06-14 19:52:26           1  \n",
       "2018-01-26 09:56:05  2016-06-14 19:52:26  2016-06-14 19:52:26           1  \n",
       "2018-01-26 09:56:06  2016-06-14 19:52:26  2016-06-14 19:52:26           1  \n",
       "2018-01-26 09:56:24  2018-01-08 13:59:10  2018-01-08 13:59:10           2  "
      ]
     },
     "execution_count": 10,
     "metadata": {},
     "output_type": "execute_result"
    }
   ],
   "source": [
    "df.head()"
   ]
  },
  {
   "cell_type": "markdown",
   "id": "4d2c888a",
   "metadata": {},
   "source": [
    "### path"
   ]
  },
  {
   "cell_type": "code",
   "execution_count": 11,
   "id": "2c54a56d",
   "metadata": {},
   "outputs": [
    {
     "data": {
      "text/html": [
       "<div>\n",
       "<style scoped>\n",
       "    .dataframe tbody tr th:only-of-type {\n",
       "        vertical-align: middle;\n",
       "    }\n",
       "\n",
       "    .dataframe tbody tr th {\n",
       "        vertical-align: top;\n",
       "    }\n",
       "\n",
       "    .dataframe thead th {\n",
       "        text-align: right;\n",
       "    }\n",
       "</style>\n",
       "<table border=\"1\" class=\"dataframe\">\n",
       "  <thead>\n",
       "    <tr style=\"text-align: right;\">\n",
       "      <th></th>\n",
       "      <th>path</th>\n",
       "      <th>user_id</th>\n",
       "      <th>cohort_id</th>\n",
       "      <th>ip</th>\n",
       "      <th>name</th>\n",
       "      <th>slack</th>\n",
       "      <th>start_date</th>\n",
       "      <th>end_date</th>\n",
       "      <th>created_at</th>\n",
       "      <th>updated_at</th>\n",
       "      <th>program_id</th>\n",
       "    </tr>\n",
       "    <tr>\n",
       "      <th>date</th>\n",
       "      <th></th>\n",
       "      <th></th>\n",
       "      <th></th>\n",
       "      <th></th>\n",
       "      <th></th>\n",
       "      <th></th>\n",
       "      <th></th>\n",
       "      <th></th>\n",
       "      <th></th>\n",
       "      <th></th>\n",
       "      <th></th>\n",
       "    </tr>\n",
       "  </thead>\n",
       "  <tbody>\n",
       "    <tr>\n",
       "      <th>2021-04-21 16:38:14</th>\n",
       "      <td>java-iii/servlets</td>\n",
       "      <td>834</td>\n",
       "      <td>134.0</td>\n",
       "      <td>67.11.50.23</td>\n",
       "      <td>Luna</td>\n",
       "      <td>#luna</td>\n",
       "      <td>2020-12-07</td>\n",
       "      <td>2021-06-08</td>\n",
       "      <td>2020-12-07 16:58:43</td>\n",
       "      <td>2020-12-07 16:58:43</td>\n",
       "      <td>2</td>\n",
       "    </tr>\n",
       "    <tr>\n",
       "      <th>2021-04-21 16:41:29</th>\n",
       "      <td>javascript-i</td>\n",
       "      <td>64</td>\n",
       "      <td>28.0</td>\n",
       "      <td>71.150.217.33</td>\n",
       "      <td>Staff</td>\n",
       "      <td>#</td>\n",
       "      <td>2014-02-04</td>\n",
       "      <td>2014-02-04</td>\n",
       "      <td>2018-12-06 17:04:19</td>\n",
       "      <td>2018-12-06 17:04:19</td>\n",
       "      <td>2</td>\n",
       "    </tr>\n",
       "    <tr>\n",
       "      <th>2021-04-21 16:41:31</th>\n",
       "      <td>javascript-ii</td>\n",
       "      <td>64</td>\n",
       "      <td>28.0</td>\n",
       "      <td>71.150.217.33</td>\n",
       "      <td>Staff</td>\n",
       "      <td>#</td>\n",
       "      <td>2014-02-04</td>\n",
       "      <td>2014-02-04</td>\n",
       "      <td>2018-12-06 17:04:19</td>\n",
       "      <td>2018-12-06 17:04:19</td>\n",
       "      <td>2</td>\n",
       "    </tr>\n",
       "    <tr>\n",
       "      <th>2021-04-21 16:41:49</th>\n",
       "      <td>jquery</td>\n",
       "      <td>64</td>\n",
       "      <td>28.0</td>\n",
       "      <td>71.150.217.33</td>\n",
       "      <td>Staff</td>\n",
       "      <td>#</td>\n",
       "      <td>2014-02-04</td>\n",
       "      <td>2014-02-04</td>\n",
       "      <td>2018-12-06 17:04:19</td>\n",
       "      <td>2018-12-06 17:04:19</td>\n",
       "      <td>2</td>\n",
       "    </tr>\n",
       "    <tr>\n",
       "      <th>2021-04-21 16:41:51</th>\n",
       "      <td>javascript-i/bom-and-dom/dom</td>\n",
       "      <td>875</td>\n",
       "      <td>135.0</td>\n",
       "      <td>24.242.150.231</td>\n",
       "      <td>Marco</td>\n",
       "      <td>#marco</td>\n",
       "      <td>2021-01-25</td>\n",
       "      <td>2021-07-19</td>\n",
       "      <td>2021-01-20 21:31:11</td>\n",
       "      <td>2021-01-20 21:31:11</td>\n",
       "      <td>2</td>\n",
       "    </tr>\n",
       "    <tr>\n",
       "      <th>2021-04-21 16:41:51</th>\n",
       "      <td>jquery/personal-site</td>\n",
       "      <td>64</td>\n",
       "      <td>28.0</td>\n",
       "      <td>71.150.217.33</td>\n",
       "      <td>Staff</td>\n",
       "      <td>#</td>\n",
       "      <td>2014-02-04</td>\n",
       "      <td>2014-02-04</td>\n",
       "      <td>2018-12-06 17:04:19</td>\n",
       "      <td>2018-12-06 17:04:19</td>\n",
       "      <td>2</td>\n",
       "    </tr>\n",
       "    <tr>\n",
       "      <th>2021-04-21 16:42:02</th>\n",
       "      <td>jquery/mapbox-api</td>\n",
       "      <td>64</td>\n",
       "      <td>28.0</td>\n",
       "      <td>71.150.217.33</td>\n",
       "      <td>Staff</td>\n",
       "      <td>#</td>\n",
       "      <td>2014-02-04</td>\n",
       "      <td>2014-02-04</td>\n",
       "      <td>2018-12-06 17:04:19</td>\n",
       "      <td>2018-12-06 17:04:19</td>\n",
       "      <td>2</td>\n",
       "    </tr>\n",
       "    <tr>\n",
       "      <th>2021-04-21 16:42:09</th>\n",
       "      <td>jquery/ajax/weather-map</td>\n",
       "      <td>64</td>\n",
       "      <td>28.0</td>\n",
       "      <td>71.150.217.33</td>\n",
       "      <td>Staff</td>\n",
       "      <td>#</td>\n",
       "      <td>2014-02-04</td>\n",
       "      <td>2014-02-04</td>\n",
       "      <td>2018-12-06 17:04:19</td>\n",
       "      <td>2018-12-06 17:04:19</td>\n",
       "      <td>2</td>\n",
       "    </tr>\n",
       "    <tr>\n",
       "      <th>2021-04-21 16:44:37</th>\n",
       "      <td>anomaly-detection/discrete-probabilistic-methods</td>\n",
       "      <td>744</td>\n",
       "      <td>28.0</td>\n",
       "      <td>24.160.137.86</td>\n",
       "      <td>Staff</td>\n",
       "      <td>#</td>\n",
       "      <td>2014-02-04</td>\n",
       "      <td>2014-02-04</td>\n",
       "      <td>2018-12-06 17:04:19</td>\n",
       "      <td>2018-12-06 17:04:19</td>\n",
       "      <td>2</td>\n",
       "    </tr>\n",
       "    <tr>\n",
       "      <th>2021-04-21 16:44:39</th>\n",
       "      <td>jquery/mapbox-api</td>\n",
       "      <td>64</td>\n",
       "      <td>28.0</td>\n",
       "      <td>71.150.217.33</td>\n",
       "      <td>Staff</td>\n",
       "      <td>#</td>\n",
       "      <td>2014-02-04</td>\n",
       "      <td>2014-02-04</td>\n",
       "      <td>2018-12-06 17:04:19</td>\n",
       "      <td>2018-12-06 17:04:19</td>\n",
       "      <td>2</td>\n",
       "    </tr>\n",
       "  </tbody>\n",
       "</table>\n",
       "</div>"
      ],
      "text/plain": [
       "                                                                 path  \\\n",
       "date                                                                    \n",
       "2021-04-21 16:38:14                                 java-iii/servlets   \n",
       "2021-04-21 16:41:29                                      javascript-i   \n",
       "2021-04-21 16:41:31                                     javascript-ii   \n",
       "2021-04-21 16:41:49                                            jquery   \n",
       "2021-04-21 16:41:51                      javascript-i/bom-and-dom/dom   \n",
       "2021-04-21 16:41:51                              jquery/personal-site   \n",
       "2021-04-21 16:42:02                                 jquery/mapbox-api   \n",
       "2021-04-21 16:42:09                           jquery/ajax/weather-map   \n",
       "2021-04-21 16:44:37  anomaly-detection/discrete-probabilistic-methods   \n",
       "2021-04-21 16:44:39                                 jquery/mapbox-api   \n",
       "\n",
       "                     user_id  cohort_id              ip   name   slack  \\\n",
       "date                                                                     \n",
       "2021-04-21 16:38:14      834      134.0     67.11.50.23   Luna   #luna   \n",
       "2021-04-21 16:41:29       64       28.0   71.150.217.33  Staff       #   \n",
       "2021-04-21 16:41:31       64       28.0   71.150.217.33  Staff       #   \n",
       "2021-04-21 16:41:49       64       28.0   71.150.217.33  Staff       #   \n",
       "2021-04-21 16:41:51      875      135.0  24.242.150.231  Marco  #marco   \n",
       "2021-04-21 16:41:51       64       28.0   71.150.217.33  Staff       #   \n",
       "2021-04-21 16:42:02       64       28.0   71.150.217.33  Staff       #   \n",
       "2021-04-21 16:42:09       64       28.0   71.150.217.33  Staff       #   \n",
       "2021-04-21 16:44:37      744       28.0   24.160.137.86  Staff       #   \n",
       "2021-04-21 16:44:39       64       28.0   71.150.217.33  Staff       #   \n",
       "\n",
       "                     start_date    end_date           created_at  \\\n",
       "date                                                               \n",
       "2021-04-21 16:38:14  2020-12-07  2021-06-08  2020-12-07 16:58:43   \n",
       "2021-04-21 16:41:29  2014-02-04  2014-02-04  2018-12-06 17:04:19   \n",
       "2021-04-21 16:41:31  2014-02-04  2014-02-04  2018-12-06 17:04:19   \n",
       "2021-04-21 16:41:49  2014-02-04  2014-02-04  2018-12-06 17:04:19   \n",
       "2021-04-21 16:41:51  2021-01-25  2021-07-19  2021-01-20 21:31:11   \n",
       "2021-04-21 16:41:51  2014-02-04  2014-02-04  2018-12-06 17:04:19   \n",
       "2021-04-21 16:42:02  2014-02-04  2014-02-04  2018-12-06 17:04:19   \n",
       "2021-04-21 16:42:09  2014-02-04  2014-02-04  2018-12-06 17:04:19   \n",
       "2021-04-21 16:44:37  2014-02-04  2014-02-04  2018-12-06 17:04:19   \n",
       "2021-04-21 16:44:39  2014-02-04  2014-02-04  2018-12-06 17:04:19   \n",
       "\n",
       "                              updated_at  program_id  \n",
       "date                                                  \n",
       "2021-04-21 16:38:14  2020-12-07 16:58:43           2  \n",
       "2021-04-21 16:41:29  2018-12-06 17:04:19           2  \n",
       "2021-04-21 16:41:31  2018-12-06 17:04:19           2  \n",
       "2021-04-21 16:41:49  2018-12-06 17:04:19           2  \n",
       "2021-04-21 16:41:51  2021-01-20 21:31:11           2  \n",
       "2021-04-21 16:41:51  2018-12-06 17:04:19           2  \n",
       "2021-04-21 16:42:02  2018-12-06 17:04:19           2  \n",
       "2021-04-21 16:42:09  2018-12-06 17:04:19           2  \n",
       "2021-04-21 16:44:37  2018-12-06 17:04:19           2  \n",
       "2021-04-21 16:44:39  2018-12-06 17:04:19           2  "
      ]
     },
     "execution_count": 11,
     "metadata": {},
     "output_type": "execute_result"
    }
   ],
   "source": [
    "df.tail(10)"
   ]
  },
  {
   "cell_type": "code",
   "execution_count": 12,
   "id": "dd33c96c",
   "metadata": {},
   "outputs": [
    {
     "data": {
      "text/plain": [
       "2224"
      ]
     },
     "execution_count": 12,
     "metadata": {},
     "output_type": "execute_result"
    }
   ],
   "source": [
    "df.path.nunique()"
   ]
  },
  {
   "cell_type": "code",
   "execution_count": 13,
   "id": "32f39a81",
   "metadata": {},
   "outputs": [
    {
     "data": {
      "text/plain": [
       "/                           45854\n",
       "javascript-i                18203\n",
       "toc                         17591\n",
       "search/search_index.json    17534\n",
       "java-iii                    13166\n",
       "html-css                    13127\n",
       "java-ii                     12177\n",
       "spring                      11883\n",
       "jquery                      11041\n",
       "mysql                       10611\n",
       "Name: path, dtype: int64"
      ]
     },
     "execution_count": 13,
     "metadata": {},
     "output_type": "execute_result"
    }
   ],
   "source": [
    "df.path.value_counts().head(10)"
   ]
  },
  {
   "cell_type": "markdown",
   "id": "3c55ef2e",
   "metadata": {},
   "source": [
    "- there are 2224 unique paths taken to a lesson\n",
    "- top path to the lesson - is javascript-i\n",
    "\n",
    "***************************\n",
    "\n",
    "### user_id"
   ]
  },
  {
   "cell_type": "code",
   "execution_count": 14,
   "id": "2c58d26a",
   "metadata": {},
   "outputs": [
    {
     "data": {
      "text/plain": [
       "911"
      ]
     },
     "execution_count": 14,
     "metadata": {},
     "output_type": "execute_result"
    }
   ],
   "source": [
    "df.user_id.nunique()"
   ]
  },
  {
   "cell_type": "code",
   "execution_count": 15,
   "id": "c865aa82",
   "metadata": {},
   "outputs": [
    {
     "data": {
      "text/plain": [
       "11     17913\n",
       "64     16322\n",
       "53     12329\n",
       "314     7783\n",
       "1       7404\n",
       "495     6451\n",
       "581     6434\n",
       "428     5897\n",
       "344     5460\n",
       "248     5075\n",
       "570     4584\n",
       "315     4510\n",
       "211     4227\n",
       "423     3804\n",
       "555     3687\n",
       "Name: user_id, dtype: int64"
      ]
     },
     "execution_count": 15,
     "metadata": {},
     "output_type": "execute_result"
    }
   ],
   "source": [
    "# who has accessed the curriculum the most?\n",
    "df.user_id.value_counts().head(15)"
   ]
  },
  {
   "cell_type": "markdown",
   "id": "c2c4856e",
   "metadata": {},
   "source": [
    "- 911 unique users in the data set, numbered 1 to 911\n",
    "- can easily see which user is accessing the curriculum using value_counts\n",
    "\n",
    "******************\n",
    "\n",
    "### cohort_id"
   ]
  },
  {
   "cell_type": "code",
   "execution_count": 16,
   "id": "53152f3e",
   "metadata": {},
   "outputs": [
    {
     "data": {
      "text/plain": [
       "47"
      ]
     },
     "execution_count": 16,
     "metadata": {},
     "output_type": "execute_result"
    }
   ],
   "source": [
    "df.cohort_id.nunique()"
   ]
  },
  {
   "cell_type": "code",
   "execution_count": 17,
   "id": "448a7ed7",
   "metadata": {},
   "outputs": [
    {
     "data": {
      "text/plain": [
       "28.0     84031\n",
       "33.0     40730\n",
       "29.0     38096\n",
       "62.0     37109\n",
       "53.0     36902\n",
       "24.0     35636\n",
       "57.0     33844\n",
       "56.0     33568\n",
       "51.0     32888\n",
       "59.0     32015\n",
       "22.0     30926\n",
       "58.0     29855\n",
       "32.0     29356\n",
       "23.0     28534\n",
       "52.0     28033\n",
       "26.0     27749\n",
       "34.0     26538\n",
       "25.0     25586\n",
       "31.0     25359\n",
       "132.0    23691\n",
       "55.0     21582\n",
       "27.0     20743\n",
       "61.0     17713\n",
       "134.0    16623\n",
       "135.0    16397\n",
       "133.0    14715\n",
       "14.0      9587\n",
       "1.0       8890\n",
       "137.0     8562\n",
       "21.0      7444\n",
       "138.0     7276\n",
       "17.0      4954\n",
       "13.0      2845\n",
       "18.0      2158\n",
       "8.0       1712\n",
       "139.0     1672\n",
       "19.0      1237\n",
       "16.0       755\n",
       "15.0       691\n",
       "7.0        598\n",
       "12.0       302\n",
       "11.0       253\n",
       "2.0         93\n",
       "6.0         72\n",
       "9.0          5\n",
       "4.0          4\n",
       "5.0          1\n",
       "Name: cohort_id, dtype: int64"
      ]
     },
     "execution_count": 17,
     "metadata": {},
     "output_type": "execute_result"
    }
   ],
   "source": [
    "df.cohort_id.value_counts()"
   ]
  },
  {
   "cell_type": "code",
   "execution_count": 18,
   "id": "3db1ee11",
   "metadata": {},
   "outputs": [
    {
     "data": {
      "text/plain": [
       "cohort_id\n",
       "1.0      18\n",
       "2.0       3\n",
       "4.0       1\n",
       "5.0       1\n",
       "6.0       2\n",
       "7.0       6\n",
       "8.0       5\n",
       "9.0       1\n",
       "11.0      5\n",
       "12.0      5\n",
       "13.0     10\n",
       "14.0     13\n",
       "15.0      5\n",
       "16.0      8\n",
       "17.0     14\n",
       "18.0     14\n",
       "19.0     17\n",
       "21.0     28\n",
       "22.0     35\n",
       "23.0     33\n",
       "24.0     34\n",
       "25.0     26\n",
       "26.0     20\n",
       "27.0     29\n",
       "28.0     51\n",
       "29.0     25\n",
       "31.0     28\n",
       "32.0     22\n",
       "33.0     29\n",
       "34.0     23\n",
       "51.0     27\n",
       "52.0     28\n",
       "53.0     29\n",
       "55.0     21\n",
       "56.0     24\n",
       "57.0     29\n",
       "58.0     23\n",
       "59.0     29\n",
       "61.0     23\n",
       "62.0     33\n",
       "132.0    23\n",
       "133.0    17\n",
       "134.0    20\n",
       "135.0    31\n",
       "137.0    21\n",
       "138.0    37\n",
       "139.0    26\n",
       "Name: user_id, dtype: int64"
      ]
     },
     "execution_count": 18,
     "metadata": {},
     "output_type": "execute_result"
    }
   ],
   "source": [
    "df.groupby('cohort_id').user_id.nunique()"
   ]
  },
  {
   "cell_type": "markdown",
   "id": "83618a61",
   "metadata": {},
   "source": [
    "- 47 unique cohorts\n",
    "- the Codeup staff are #28\n",
    "- the single digit cohorts don't have but a few students, something to look at later\n",
    "*****************************\n",
    "\n",
    "### ip"
   ]
  },
  {
   "cell_type": "code",
   "execution_count": 19,
   "id": "3a78be83",
   "metadata": {},
   "outputs": [
    {
     "data": {
      "text/plain": [
       "97.105.19.58       268648\n",
       "97.105.19.61        60530\n",
       "192.171.117.210      9124\n",
       "71.150.217.33        6791\n",
       "76.185.145.231       4754\n",
       "                    ...  \n",
       "92.38.148.50            1\n",
       "107.77.217.49           1\n",
       "72.181.57.49            1\n",
       "38.70.11.18             1\n",
       "172.14.106.110          1\n",
       "Name: ip, Length: 5200, dtype: int64"
      ]
     },
     "execution_count": 19,
     "metadata": {},
     "output_type": "execute_result"
    }
   ],
   "source": [
    "df.ip.value_counts()"
   ]
  },
  {
   "cell_type": "markdown",
   "id": "fb26c430",
   "metadata": {},
   "source": [
    "- 5200 different ip addresses\n",
    "- the top 2 look to be Codeup\n",
    "**************************\n",
    "\n",
    "### name"
   ]
  },
  {
   "cell_type": "code",
   "execution_count": 20,
   "id": "3b758558",
   "metadata": {},
   "outputs": [
    {
     "data": {
      "text/plain": [
       "Staff         84031\n",
       "Ceres         40730\n",
       "Zion          38096\n",
       "Jupiter       37109\n",
       "Fortuna       36902\n",
       "Voyageurs     35636\n",
       "Ganymede      33844\n",
       "Apex          33568\n",
       "Deimos        32888\n",
       "Darden        32015\n",
       "Teddy         30926\n",
       "Hyperion      29855\n",
       "Betelgeuse    29356\n",
       "Ulysses       28534\n",
       "Europa        28033\n",
       "Xanadu        27749\n",
       "Bayes         26538\n",
       "Wrangell      25586\n",
       "Andromeda     25359\n",
       "Kalypso       23691\n",
       "Curie         21582\n",
       "Yosemite      20743\n",
       "Bash          17713\n",
       "Luna          16623\n",
       "Marco         16397\n",
       "Easley        14715\n",
       "Lassen         9587\n",
       "Arches         8890\n",
       "Florence       8562\n",
       "Sequoia        7444\n",
       "Neptune        7276\n",
       "Olympic        4954\n",
       "Kings          2845\n",
       "Pinnacles      2158\n",
       "Hampton        1712\n",
       "Oberon         1672\n",
       "Quincy         1237\n",
       "Niagara         755\n",
       "Mammoth         691\n",
       "Glacier         598\n",
       "Joshua          302\n",
       "Ike             253\n",
       "Badlands         93\n",
       "Franklin         72\n",
       "Apollo            5\n",
       "Denali            4\n",
       "Everglades        1\n",
       "Name: name, dtype: int64"
      ]
     },
     "execution_count": 20,
     "metadata": {},
     "output_type": "execute_result"
    }
   ],
   "source": [
    "df.name.value_counts()"
   ]
  },
  {
   "cell_type": "markdown",
   "id": "38d8a366",
   "metadata": {},
   "source": [
    "- cohort names\n",
    "- not much going on here\n",
    "\n",
    "************************\n",
    "\n",
    "### slack"
   ]
  },
  {
   "cell_type": "code",
   "execution_count": 21,
   "id": "74988ec6",
   "metadata": {},
   "outputs": [
    {
     "data": {
      "text/plain": [
       "46"
      ]
     },
     "execution_count": 21,
     "metadata": {},
     "output_type": "execute_result"
    }
   ],
   "source": [
    "df.slack.nunique()"
   ]
  },
  {
   "cell_type": "code",
   "execution_count": 22,
   "id": "9b1b077b",
   "metadata": {},
   "outputs": [
    {
     "data": {
      "text/plain": [
       "array(['#hampton', '#teddy', '#sequoia', '#arches', '#niagara',\n",
       "       '#pinnacles', '#quincy', '#kings', '#lassen', '#mammoth',\n",
       "       '#glacier', '#denali', '#joshua', '#olympic', '#ulysses',\n",
       "       '#badlands', '#apollo', '#ike', '#voyageurs', '#wrangell',\n",
       "       '#xanadu', '#franklin', '#yosemite', '#', '#zion', '#andromeda',\n",
       "       '#betelgeuse', '#ceres', '#deimos', '#europa', '#fortuna',\n",
       "       '#curie', '#apex', '#ganymede', '#everglades', '#hyperion',\n",
       "       '#darden', '#bash', '#jupiter', '#kalypso', '#luna', '#easley',\n",
       "       '#marco', '#neptune', '#florence', '#oberon'], dtype=object)"
      ]
     },
     "execution_count": 22,
     "metadata": {},
     "output_type": "execute_result"
    }
   ],
   "source": [
    "df.slack.unique()"
   ]
  },
  {
   "cell_type": "markdown",
   "id": "4879d448",
   "metadata": {},
   "source": [
    "- looks like slack is comparable to name\n",
    "- dropping slack from the data frame"
   ]
  },
  {
   "cell_type": "code",
   "execution_count": 23,
   "id": "8c16d579",
   "metadata": {},
   "outputs": [],
   "source": [
    "# dropping slack as it dosen't seem to provide much in my analysis\n",
    "df = df.drop(columns='slack')"
   ]
  },
  {
   "cell_type": "markdown",
   "id": "1aa3b36b",
   "metadata": {},
   "source": [
    "### start_date and end_date"
   ]
  },
  {
   "cell_type": "code",
   "execution_count": 24,
   "id": "4b393a4a",
   "metadata": {},
   "outputs": [
    {
     "data": {
      "text/html": [
       "<div>\n",
       "<style scoped>\n",
       "    .dataframe tbody tr th:only-of-type {\n",
       "        vertical-align: middle;\n",
       "    }\n",
       "\n",
       "    .dataframe tbody tr th {\n",
       "        vertical-align: top;\n",
       "    }\n",
       "\n",
       "    .dataframe thead th {\n",
       "        text-align: right;\n",
       "    }\n",
       "</style>\n",
       "<table border=\"1\" class=\"dataframe\">\n",
       "  <thead>\n",
       "    <tr style=\"text-align: right;\">\n",
       "      <th></th>\n",
       "      <th>path</th>\n",
       "      <th>user_id</th>\n",
       "      <th>cohort_id</th>\n",
       "      <th>ip</th>\n",
       "      <th>name</th>\n",
       "      <th>start_date</th>\n",
       "      <th>end_date</th>\n",
       "      <th>created_at</th>\n",
       "      <th>updated_at</th>\n",
       "      <th>program_id</th>\n",
       "    </tr>\n",
       "    <tr>\n",
       "      <th>date</th>\n",
       "      <th></th>\n",
       "      <th></th>\n",
       "      <th></th>\n",
       "      <th></th>\n",
       "      <th></th>\n",
       "      <th></th>\n",
       "      <th></th>\n",
       "      <th></th>\n",
       "      <th></th>\n",
       "      <th></th>\n",
       "    </tr>\n",
       "  </thead>\n",
       "  <tbody>\n",
       "    <tr>\n",
       "      <th>2018-01-26 09:55:03</th>\n",
       "      <td>/</td>\n",
       "      <td>1</td>\n",
       "      <td>8.0</td>\n",
       "      <td>97.105.19.61</td>\n",
       "      <td>Hampton</td>\n",
       "      <td>2015-09-22</td>\n",
       "      <td>2016-02-06</td>\n",
       "      <td>2016-06-14 19:52:26</td>\n",
       "      <td>2016-06-14 19:52:26</td>\n",
       "      <td>1</td>\n",
       "    </tr>\n",
       "    <tr>\n",
       "      <th>2018-01-26 09:56:02</th>\n",
       "      <td>java-ii</td>\n",
       "      <td>1</td>\n",
       "      <td>8.0</td>\n",
       "      <td>97.105.19.61</td>\n",
       "      <td>Hampton</td>\n",
       "      <td>2015-09-22</td>\n",
       "      <td>2016-02-06</td>\n",
       "      <td>2016-06-14 19:52:26</td>\n",
       "      <td>2016-06-14 19:52:26</td>\n",
       "      <td>1</td>\n",
       "    </tr>\n",
       "    <tr>\n",
       "      <th>2018-01-26 09:56:05</th>\n",
       "      <td>java-ii/object-oriented-programming</td>\n",
       "      <td>1</td>\n",
       "      <td>8.0</td>\n",
       "      <td>97.105.19.61</td>\n",
       "      <td>Hampton</td>\n",
       "      <td>2015-09-22</td>\n",
       "      <td>2016-02-06</td>\n",
       "      <td>2016-06-14 19:52:26</td>\n",
       "      <td>2016-06-14 19:52:26</td>\n",
       "      <td>1</td>\n",
       "    </tr>\n",
       "    <tr>\n",
       "      <th>2018-01-26 09:56:06</th>\n",
       "      <td>slides/object_oriented_programming</td>\n",
       "      <td>1</td>\n",
       "      <td>8.0</td>\n",
       "      <td>97.105.19.61</td>\n",
       "      <td>Hampton</td>\n",
       "      <td>2015-09-22</td>\n",
       "      <td>2016-02-06</td>\n",
       "      <td>2016-06-14 19:52:26</td>\n",
       "      <td>2016-06-14 19:52:26</td>\n",
       "      <td>1</td>\n",
       "    </tr>\n",
       "    <tr>\n",
       "      <th>2018-01-26 09:56:24</th>\n",
       "      <td>javascript-i/conditionals</td>\n",
       "      <td>2</td>\n",
       "      <td>22.0</td>\n",
       "      <td>97.105.19.61</td>\n",
       "      <td>Teddy</td>\n",
       "      <td>2018-01-08</td>\n",
       "      <td>2018-05-17</td>\n",
       "      <td>2018-01-08 13:59:10</td>\n",
       "      <td>2018-01-08 13:59:10</td>\n",
       "      <td>2</td>\n",
       "    </tr>\n",
       "  </tbody>\n",
       "</table>\n",
       "</div>"
      ],
      "text/plain": [
       "                                                    path  user_id  cohort_id  \\\n",
       "date                                                                           \n",
       "2018-01-26 09:55:03                                    /        1        8.0   \n",
       "2018-01-26 09:56:02                              java-ii        1        8.0   \n",
       "2018-01-26 09:56:05  java-ii/object-oriented-programming        1        8.0   \n",
       "2018-01-26 09:56:06   slides/object_oriented_programming        1        8.0   \n",
       "2018-01-26 09:56:24            javascript-i/conditionals        2       22.0   \n",
       "\n",
       "                               ip     name  start_date    end_date  \\\n",
       "date                                                                 \n",
       "2018-01-26 09:55:03  97.105.19.61  Hampton  2015-09-22  2016-02-06   \n",
       "2018-01-26 09:56:02  97.105.19.61  Hampton  2015-09-22  2016-02-06   \n",
       "2018-01-26 09:56:05  97.105.19.61  Hampton  2015-09-22  2016-02-06   \n",
       "2018-01-26 09:56:06  97.105.19.61  Hampton  2015-09-22  2016-02-06   \n",
       "2018-01-26 09:56:24  97.105.19.61    Teddy  2018-01-08  2018-05-17   \n",
       "\n",
       "                              created_at           updated_at  program_id  \n",
       "date                                                                       \n",
       "2018-01-26 09:55:03  2016-06-14 19:52:26  2016-06-14 19:52:26           1  \n",
       "2018-01-26 09:56:02  2016-06-14 19:52:26  2016-06-14 19:52:26           1  \n",
       "2018-01-26 09:56:05  2016-06-14 19:52:26  2016-06-14 19:52:26           1  \n",
       "2018-01-26 09:56:06  2016-06-14 19:52:26  2016-06-14 19:52:26           1  \n",
       "2018-01-26 09:56:24  2018-01-08 13:59:10  2018-01-08 13:59:10           2  "
      ]
     },
     "execution_count": 24,
     "metadata": {},
     "output_type": "execute_result"
    }
   ],
   "source": [
    "df.head()"
   ]
  },
  {
   "cell_type": "code",
   "execution_count": 25,
   "id": "563e7cb2",
   "metadata": {},
   "outputs": [],
   "source": [
    "# need to convert these two columns to Dtype datetime\n",
    "df.start_date = pd.to_datetime(df.start_date)\n",
    "df.end_date = pd.to_datetime(df.end_date)"
   ]
  },
  {
   "cell_type": "code",
   "execution_count": 26,
   "id": "ff64196c",
   "metadata": {},
   "outputs": [
    {
     "data": {
      "text/plain": [
       "Timestamp('2014-02-04 00:00:00')"
      ]
     },
     "execution_count": 26,
     "metadata": {},
     "output_type": "execute_result"
    }
   ],
   "source": [
    "df.start_date.min()"
   ]
  },
  {
   "cell_type": "code",
   "execution_count": 27,
   "id": "68ef4152",
   "metadata": {},
   "outputs": [
    {
     "data": {
      "text/plain": [
       "Timestamp('2021-04-12 00:00:00')"
      ]
     },
     "execution_count": 27,
     "metadata": {},
     "output_type": "execute_result"
    }
   ],
   "source": [
    "df.start_date.max()"
   ]
  },
  {
   "cell_type": "code",
   "execution_count": 28,
   "id": "d8ce40e5",
   "metadata": {},
   "outputs": [
    {
     "data": {
      "text/plain": [
       "Timestamp('2014-02-04 00:00:00')"
      ]
     },
     "execution_count": 28,
     "metadata": {},
     "output_type": "execute_result"
    }
   ],
   "source": [
    "df.end_date.min()"
   ]
  },
  {
   "cell_type": "code",
   "execution_count": 29,
   "id": "833b8ea8",
   "metadata": {},
   "outputs": [
    {
     "data": {
      "text/plain": [
       "Timestamp('2021-10-01 00:00:00')"
      ]
     },
     "execution_count": 29,
     "metadata": {},
     "output_type": "execute_result"
    }
   ],
   "source": [
    "df.end_date.max()"
   ]
  },
  {
   "cell_type": "markdown",
   "id": "bb4f2eff",
   "metadata": {},
   "source": [
    "- Zach said that logs where not started to being gathered until 2018, will need to see how that may effect what my review\n",
    "- these two columns will be good when looking at activity to time in the cohorts\n",
    "\n",
    "*************************\n",
    "\n",
    "### create_at and updated_at"
   ]
  },
  {
   "cell_type": "code",
   "execution_count": 30,
   "id": "fa673b37",
   "metadata": {},
   "outputs": [
    {
     "name": "stdout",
     "output_type": "stream",
     "text": [
      "<class 'pandas.core.frame.DataFrame'>\n",
      "DatetimeIndex: 847330 entries, 2018-01-26 09:55:03 to 2021-04-21 16:44:39\n",
      "Data columns (total 10 columns):\n",
      " #   Column      Non-Null Count   Dtype         \n",
      "---  ------      --------------   -----         \n",
      " 0   path        847329 non-null  object        \n",
      " 1   user_id     847330 non-null  int64         \n",
      " 2   cohort_id   847330 non-null  float64       \n",
      " 3   ip          847330 non-null  object        \n",
      " 4   name        847330 non-null  object        \n",
      " 5   start_date  847330 non-null  datetime64[ns]\n",
      " 6   end_date    847330 non-null  datetime64[ns]\n",
      " 7   created_at  847330 non-null  object        \n",
      " 8   updated_at  847330 non-null  object        \n",
      " 9   program_id  847330 non-null  int64         \n",
      "dtypes: datetime64[ns](2), float64(1), int64(2), object(5)\n",
      "memory usage: 71.1+ MB\n"
     ]
    }
   ],
   "source": [
    "df.info()"
   ]
  },
  {
   "cell_type": "code",
   "execution_count": 31,
   "id": "aad5476b",
   "metadata": {},
   "outputs": [],
   "source": [
    "# these two columns need to be converted to date Dtype\n",
    "df.created_at = pd.to_datetime(df.created_at)\n",
    "df.updated_at = pd.to_datetime(df.updated_at)"
   ]
  },
  {
   "cell_type": "code",
   "execution_count": 32,
   "id": "e8eaa511",
   "metadata": {},
   "outputs": [
    {
     "name": "stdout",
     "output_type": "stream",
     "text": [
      "<class 'pandas.core.frame.DataFrame'>\n",
      "DatetimeIndex: 847330 entries, 2018-01-26 09:55:03 to 2021-04-21 16:44:39\n",
      "Data columns (total 10 columns):\n",
      " #   Column      Non-Null Count   Dtype         \n",
      "---  ------      --------------   -----         \n",
      " 0   path        847329 non-null  object        \n",
      " 1   user_id     847330 non-null  int64         \n",
      " 2   cohort_id   847330 non-null  float64       \n",
      " 3   ip          847330 non-null  object        \n",
      " 4   name        847330 non-null  object        \n",
      " 5   start_date  847330 non-null  datetime64[ns]\n",
      " 6   end_date    847330 non-null  datetime64[ns]\n",
      " 7   created_at  847330 non-null  datetime64[ns]\n",
      " 8   updated_at  847330 non-null  datetime64[ns]\n",
      " 9   program_id  847330 non-null  int64         \n",
      "dtypes: datetime64[ns](4), float64(1), int64(2), object(3)\n",
      "memory usage: 71.1+ MB\n"
     ]
    }
   ],
   "source": [
    "df.info()"
   ]
  },
  {
   "cell_type": "markdown",
   "id": "8bc00906",
   "metadata": {},
   "source": [
    "- Dtype changed to datetime on created_at and updated_at\n",
    "- if needed we won't run into issues with the Dtype later on\n",
    "*************************\n",
    "\n",
    "### program_id"
   ]
  },
  {
   "cell_type": "code",
   "execution_count": 33,
   "id": "57833b59",
   "metadata": {},
   "outputs": [
    {
     "data": {
      "text/plain": [
       "2    713365\n",
       "3    103412\n",
       "1     30548\n",
       "4         5\n",
       "Name: program_id, dtype: int64"
      ]
     },
     "execution_count": 33,
     "metadata": {},
     "output_type": "execute_result"
    }
   ],
   "source": [
    "df.program_id.value_counts()"
   ]
  },
  {
   "cell_type": "code",
   "execution_count": 34,
   "id": "40d63ab6",
   "metadata": {},
   "outputs": [],
   "source": [
    "# create a dictionary to show what these program_id's are\n",
    "program_name = {\n",
    "    1 : 'Web Dev - PHP Full Stack',\n",
    "    2 : 'Web Dev - Java Full Stack',\n",
    "    3 : 'Data Science',\n",
    "    4 : 'Web Dev - Front End'\n",
    "}"
   ]
  },
  {
   "cell_type": "code",
   "execution_count": 35,
   "id": "1aab60ef",
   "metadata": {},
   "outputs": [],
   "source": [
    "df['program'] = df.program_id.map(program_name)"
   ]
  },
  {
   "cell_type": "code",
   "execution_count": 36,
   "id": "4ee86427",
   "metadata": {},
   "outputs": [
    {
     "data": {
      "text/plain": [
       "Web Dev - Java Full Stack    713365\n",
       "Data Science                 103412\n",
       "Web Dev - PHP Full Stack      30548\n",
       "Web Dev - Front End               5\n",
       "Name: program, dtype: int64"
      ]
     },
     "execution_count": 36,
     "metadata": {},
     "output_type": "execute_result"
    }
   ],
   "source": [
    "df.program.value_counts()"
   ]
  },
  {
   "cell_type": "code",
   "execution_count": 37,
   "id": "955e6675",
   "metadata": {},
   "outputs": [],
   "source": [
    "# we can drop the column program_id as we made a new column to replace it - program\n",
    "df = df.drop(columns='program_id')"
   ]
  },
  {
   "cell_type": "code",
   "execution_count": 38,
   "id": "21c6f9fd",
   "metadata": {},
   "outputs": [
    {
     "data": {
      "text/html": [
       "<div>\n",
       "<style scoped>\n",
       "    .dataframe tbody tr th:only-of-type {\n",
       "        vertical-align: middle;\n",
       "    }\n",
       "\n",
       "    .dataframe tbody tr th {\n",
       "        vertical-align: top;\n",
       "    }\n",
       "\n",
       "    .dataframe thead th {\n",
       "        text-align: right;\n",
       "    }\n",
       "</style>\n",
       "<table border=\"1\" class=\"dataframe\">\n",
       "  <thead>\n",
       "    <tr style=\"text-align: right;\">\n",
       "      <th></th>\n",
       "      <th>path</th>\n",
       "      <th>user_id</th>\n",
       "      <th>cohort_id</th>\n",
       "      <th>ip</th>\n",
       "      <th>name</th>\n",
       "      <th>start_date</th>\n",
       "      <th>end_date</th>\n",
       "      <th>created_at</th>\n",
       "      <th>updated_at</th>\n",
       "      <th>program</th>\n",
       "    </tr>\n",
       "    <tr>\n",
       "      <th>date</th>\n",
       "      <th></th>\n",
       "      <th></th>\n",
       "      <th></th>\n",
       "      <th></th>\n",
       "      <th></th>\n",
       "      <th></th>\n",
       "      <th></th>\n",
       "      <th></th>\n",
       "      <th></th>\n",
       "      <th></th>\n",
       "    </tr>\n",
       "  </thead>\n",
       "  <tbody>\n",
       "    <tr>\n",
       "      <th>2018-01-26 09:55:03</th>\n",
       "      <td>/</td>\n",
       "      <td>1</td>\n",
       "      <td>8.0</td>\n",
       "      <td>97.105.19.61</td>\n",
       "      <td>Hampton</td>\n",
       "      <td>2015-09-22</td>\n",
       "      <td>2016-02-06</td>\n",
       "      <td>2016-06-14 19:52:26</td>\n",
       "      <td>2016-06-14 19:52:26</td>\n",
       "      <td>Web Dev - PHP Full Stack</td>\n",
       "    </tr>\n",
       "    <tr>\n",
       "      <th>2018-01-26 09:56:02</th>\n",
       "      <td>java-ii</td>\n",
       "      <td>1</td>\n",
       "      <td>8.0</td>\n",
       "      <td>97.105.19.61</td>\n",
       "      <td>Hampton</td>\n",
       "      <td>2015-09-22</td>\n",
       "      <td>2016-02-06</td>\n",
       "      <td>2016-06-14 19:52:26</td>\n",
       "      <td>2016-06-14 19:52:26</td>\n",
       "      <td>Web Dev - PHP Full Stack</td>\n",
       "    </tr>\n",
       "    <tr>\n",
       "      <th>2018-01-26 09:56:05</th>\n",
       "      <td>java-ii/object-oriented-programming</td>\n",
       "      <td>1</td>\n",
       "      <td>8.0</td>\n",
       "      <td>97.105.19.61</td>\n",
       "      <td>Hampton</td>\n",
       "      <td>2015-09-22</td>\n",
       "      <td>2016-02-06</td>\n",
       "      <td>2016-06-14 19:52:26</td>\n",
       "      <td>2016-06-14 19:52:26</td>\n",
       "      <td>Web Dev - PHP Full Stack</td>\n",
       "    </tr>\n",
       "    <tr>\n",
       "      <th>2018-01-26 09:56:06</th>\n",
       "      <td>slides/object_oriented_programming</td>\n",
       "      <td>1</td>\n",
       "      <td>8.0</td>\n",
       "      <td>97.105.19.61</td>\n",
       "      <td>Hampton</td>\n",
       "      <td>2015-09-22</td>\n",
       "      <td>2016-02-06</td>\n",
       "      <td>2016-06-14 19:52:26</td>\n",
       "      <td>2016-06-14 19:52:26</td>\n",
       "      <td>Web Dev - PHP Full Stack</td>\n",
       "    </tr>\n",
       "    <tr>\n",
       "      <th>2018-01-26 09:56:24</th>\n",
       "      <td>javascript-i/conditionals</td>\n",
       "      <td>2</td>\n",
       "      <td>22.0</td>\n",
       "      <td>97.105.19.61</td>\n",
       "      <td>Teddy</td>\n",
       "      <td>2018-01-08</td>\n",
       "      <td>2018-05-17</td>\n",
       "      <td>2018-01-08 13:59:10</td>\n",
       "      <td>2018-01-08 13:59:10</td>\n",
       "      <td>Web Dev - Java Full Stack</td>\n",
       "    </tr>\n",
       "  </tbody>\n",
       "</table>\n",
       "</div>"
      ],
      "text/plain": [
       "                                                    path  user_id  cohort_id  \\\n",
       "date                                                                           \n",
       "2018-01-26 09:55:03                                    /        1        8.0   \n",
       "2018-01-26 09:56:02                              java-ii        1        8.0   \n",
       "2018-01-26 09:56:05  java-ii/object-oriented-programming        1        8.0   \n",
       "2018-01-26 09:56:06   slides/object_oriented_programming        1        8.0   \n",
       "2018-01-26 09:56:24            javascript-i/conditionals        2       22.0   \n",
       "\n",
       "                               ip     name start_date   end_date  \\\n",
       "date                                                               \n",
       "2018-01-26 09:55:03  97.105.19.61  Hampton 2015-09-22 2016-02-06   \n",
       "2018-01-26 09:56:02  97.105.19.61  Hampton 2015-09-22 2016-02-06   \n",
       "2018-01-26 09:56:05  97.105.19.61  Hampton 2015-09-22 2016-02-06   \n",
       "2018-01-26 09:56:06  97.105.19.61  Hampton 2015-09-22 2016-02-06   \n",
       "2018-01-26 09:56:24  97.105.19.61    Teddy 2018-01-08 2018-05-17   \n",
       "\n",
       "                             created_at          updated_at  \\\n",
       "date                                                          \n",
       "2018-01-26 09:55:03 2016-06-14 19:52:26 2016-06-14 19:52:26   \n",
       "2018-01-26 09:56:02 2016-06-14 19:52:26 2016-06-14 19:52:26   \n",
       "2018-01-26 09:56:05 2016-06-14 19:52:26 2016-06-14 19:52:26   \n",
       "2018-01-26 09:56:06 2016-06-14 19:52:26 2016-06-14 19:52:26   \n",
       "2018-01-26 09:56:24 2018-01-08 13:59:10 2018-01-08 13:59:10   \n",
       "\n",
       "                                       program  \n",
       "date                                            \n",
       "2018-01-26 09:55:03   Web Dev - PHP Full Stack  \n",
       "2018-01-26 09:56:02   Web Dev - PHP Full Stack  \n",
       "2018-01-26 09:56:05   Web Dev - PHP Full Stack  \n",
       "2018-01-26 09:56:06   Web Dev - PHP Full Stack  \n",
       "2018-01-26 09:56:24  Web Dev - Java Full Stack  "
      ]
     },
     "execution_count": 38,
     "metadata": {},
     "output_type": "execute_result"
    }
   ],
   "source": [
    "# take a look at the data\n",
    "df.head()\n",
    "\n",
    "# Nice!!"
   ]
  },
  {
   "cell_type": "markdown",
   "id": "a507592a",
   "metadata": {},
   "source": [
    "- added name details for the program_id to better represent what the program is\n",
    "- have cleaned up, deleted un-need columns and reviewed the data at this point"
   ]
  },
  {
   "cell_type": "markdown",
   "id": "5b1af7f2",
   "metadata": {},
   "source": [
    "# Get the answers to the questions in the email\n",
    "**********************************\n",
    "\n",
    "### 1. Which lesson appears to attract the most traffic consistently across cohorts (per program)?"
   ]
  },
  {
   "cell_type": "code",
   "execution_count": 39,
   "id": "8ce7b4c8",
   "metadata": {},
   "outputs": [
    {
     "data": {
      "text/plain": [
       "(847330, 10)"
      ]
     },
     "execution_count": 39,
     "metadata": {},
     "output_type": "execute_result"
    }
   ],
   "source": [
    "# To get the best answer to this question I will setup a subset of the data frame where I will pull only the lessons\n",
    "# that don't include the requests for the home page, the search option and end with a jpeg or svg\n",
    "df.shape"
   ]
  },
  {
   "cell_type": "code",
   "execution_count": 40,
   "id": "8238ce09",
   "metadata": {},
   "outputs": [],
   "source": [
    "# create the subset data frame\n",
    "df1 = df[df.path.isna() == False]"
   ]
  },
  {
   "cell_type": "code",
   "execution_count": 41,
   "id": "f3a7ca78",
   "metadata": {},
   "outputs": [],
   "source": [
    "# get data that doesn't end with jpg\n",
    "df1 = df1[~df1.path.str.endswith('jpg')]"
   ]
  },
  {
   "cell_type": "code",
   "execution_count": 42,
   "id": "12ea4ed2",
   "metadata": {},
   "outputs": [],
   "source": [
    "# get data that doesn't end with jpeg\n",
    "df1 = df1[~df1.path.str.endswith('jpeg')]"
   ]
  },
  {
   "cell_type": "code",
   "execution_count": 43,
   "id": "f9f2f188",
   "metadata": {},
   "outputs": [],
   "source": [
    "# get data that doesn't have home page or the search option\n",
    "df1 = df1[(df1.path != '/') & (df1.path != 'search/search_index.json')]"
   ]
  },
  {
   "cell_type": "code",
   "execution_count": 44,
   "id": "cbc16d82",
   "metadata": {},
   "outputs": [],
   "source": [
    "# get data that doesn't end with svg\n",
    "df1 = df1[~df1.path.str.endswith('svg')]"
   ]
  },
  {
   "cell_type": "code",
   "execution_count": 45,
   "id": "03595106",
   "metadata": {},
   "outputs": [],
   "source": [
    "# get data that doesn't end with html\n",
    "df1 = df1[~df1.path.str.endswith('html')]"
   ]
  },
  {
   "cell_type": "code",
   "execution_count": 46,
   "id": "e42f61ed",
   "metadata": {},
   "outputs": [
    {
     "data": {
      "text/plain": [
       "Text(0, 0.5, 'Proportion of Request')"
      ]
     },
     "execution_count": 46,
     "metadata": {},
     "output_type": "execute_result"
    },
    {
     "data": {
      "image/png": "[encoded data removed]",
      "text/plain": [
       "<Figure size 1080x360 with 1 Axes>"
      ]
     },
     "metadata": {
      "needs_background": "light"
     },
     "output_type": "display_data"
    }
   ],
   "source": [
    "df1['path'].value_counts(normalize=True).head(10).plot.bar(figsize=(15,5))\n",
    "plt.title('Top 10 Lessons Accessed Across All Programs')\n",
    "plt.xticks(rotation=0)\n",
    "plt.xlabel('Lesson Path')\n",
    "plt.ylabel('Proportion of Request')\n"
   ]
  },
  {
   "cell_type": "markdown",
   "id": "47541489",
   "metadata": {},
   "source": [
    "### Top 10 Lessons Accessed Across All Programs = javascipt-i"
   ]
  },
  {
   "cell_type": "code",
   "execution_count": 47,
   "id": "2b1165e9",
   "metadata": {},
   "outputs": [
    {
     "data": {
      "text/plain": [
       "javascript-i     18203\n",
       "toc              17591\n",
       "java-iii         13166\n",
       "html-css         13127\n",
       "java-ii          12177\n",
       "spring           11883\n",
       "jquery           11041\n",
       "mysql            10611\n",
       "java-i           10467\n",
       "javascript-ii    10294\n",
       "Name: path, dtype: int64"
      ]
     },
     "execution_count": 47,
     "metadata": {},
     "output_type": "execute_result"
    }
   ],
   "source": [
    "df1['path'].value_counts(normalize=False).head(10)"
   ]
  },
  {
   "cell_type": "code",
   "execution_count": 48,
   "id": "1f48d710",
   "metadata": {},
   "outputs": [
    {
     "data": {
      "text/plain": [
       "array(['Web Dev - PHP Full Stack', 'Web Dev - Java Full Stack',\n",
       "       'Web Dev - Front End', 'Data Science'], dtype=object)"
      ]
     },
     "execution_count": 48,
     "metadata": {},
     "output_type": "execute_result"
    }
   ],
   "source": [
    "# now lets get it per program\n",
    "df1.program.unique()"
   ]
  },
  {
   "cell_type": "code",
   "execution_count": 49,
   "id": "1b466fe2",
   "metadata": {},
   "outputs": [],
   "source": [
    "php_df = df1[df1.program == 'Web Dev - PHP Full Stack']\n",
    "java_df = df1[df1.program == 'Web Dev - Java Full Stack']\n",
    "fe_df = df1[df1.program == 'Web Dev - Front End']\n",
    "ds_df = df1[df1.program == 'Data Science']"
   ]
  },
  {
   "cell_type": "markdown",
   "id": "178bdc95",
   "metadata": {},
   "source": [
    "### PHP"
   ]
  },
  {
   "cell_type": "code",
   "execution_count": 50,
   "id": "68e11860",
   "metadata": {},
   "outputs": [
    {
     "data": {
      "text/plain": [
       "Text(0, 0.5, 'Proportion of Request')"
      ]
     },
     "execution_count": 50,
     "metadata": {},
     "output_type": "execute_result"
    },
    {
     "data": {
      "image/png": "[encoded data removed]",
      "text/plain": [
       "<Figure size 1080x360 with 1 Axes>"
      ]
     },
     "metadata": {
      "needs_background": "light"
     },
     "output_type": "display_data"
    }
   ],
   "source": [
    "php_df['path'].value_counts(normalize=True).head(10).plot.bar(figsize=(15,5))\n",
    "plt.title('Top 10 Lessons Accessed for Web Dev - PHP Full Stack')\n",
    "plt.xticks(rotation=0)\n",
    "plt.xlabel('Lesson Path')\n",
    "plt.ylabel('Proportion of Request')"
   ]
  },
  {
   "cell_type": "markdown",
   "id": "2877033d",
   "metadata": {},
   "source": [
    "### Top 10 Lessons Accessed for Web Dev - PHP Full Stack = javascript-i"
   ]
  },
  {
   "cell_type": "code",
   "execution_count": 51,
   "id": "d15a6435",
   "metadata": {},
   "outputs": [
    {
     "data": {
      "text/plain": [
       "javascript-i     736\n",
       "html-css         542\n",
       "spring           501\n",
       "java-iii         479\n",
       "java-ii          454\n",
       "java-i           444\n",
       "javascript-ii    429\n",
       "appendix         409\n",
       "jquery           344\n",
       "mysql            284\n",
       "Name: path, dtype: int64"
      ]
     },
     "execution_count": 51,
     "metadata": {},
     "output_type": "execute_result"
    }
   ],
   "source": [
    "php_df['path'].value_counts(normalize=False).head(10)"
   ]
  },
  {
   "cell_type": "markdown",
   "id": "18723016",
   "metadata": {},
   "source": [
    "### Java"
   ]
  },
  {
   "cell_type": "code",
   "execution_count": 52,
   "id": "0c345813",
   "metadata": {},
   "outputs": [
    {
     "data": {
      "text/plain": [
       "Text(0, 0.5, 'Proportion of Request')"
      ]
     },
     "execution_count": 52,
     "metadata": {},
     "output_type": "execute_result"
    },
    {
     "data": {
      "image/png": "[encoded data removed]",
      "text/plain": [
       "<Figure size 1080x360 with 1 Axes>"
      ]
     },
     "metadata": {
      "needs_background": "light"
     },
     "output_type": "display_data"
    }
   ],
   "source": [
    "java_df['path'].value_counts(normalize=True).head(10).plot.bar(figsize=(15,5))\n",
    "plt.title('Top 10 Lessons Accessed for Web Dev - Java Full Stack')\n",
    "plt.xticks(rotation=0)\n",
    "plt.xlabel('Lesson Path')\n",
    "plt.ylabel('Proportion of Request')"
   ]
  },
  {
   "cell_type": "markdown",
   "id": "2992728b",
   "metadata": {},
   "source": [
    "### Top 10 Lessons Accessed for Web Dev - Java Full Stack = javascript-i"
   ]
  },
  {
   "cell_type": "code",
   "execution_count": 53,
   "id": "7fcd0ac1",
   "metadata": {},
   "outputs": [
    {
     "data": {
      "text/plain": [
       "javascript-i     17457\n",
       "toc              17428\n",
       "java-iii         12683\n",
       "html-css         12569\n",
       "java-ii          11719\n",
       "spring           11376\n",
       "jquery           10693\n",
       "mysql            10318\n",
       "java-i           10016\n",
       "javascript-ii     9861\n",
       "Name: path, dtype: int64"
      ]
     },
     "execution_count": 53,
     "metadata": {},
     "output_type": "execute_result"
    }
   ],
   "source": [
    "java_df['path'].value_counts(normalize=False).head(10)"
   ]
  },
  {
   "cell_type": "markdown",
   "id": "39cadf84",
   "metadata": {},
   "source": [
    "### Front End"
   ]
  },
  {
   "cell_type": "code",
   "execution_count": 54,
   "id": "0716beb6",
   "metadata": {},
   "outputs": [
    {
     "data": {
      "text/plain": [
       "Text(0, 0.5, 'Proportion of Request')"
      ]
     },
     "execution_count": 54,
     "metadata": {},
     "output_type": "execute_result"
    },
    {
     "data": {
      "image/png": "[encoded data removed]",
      "text/plain": [
       "<Figure size 1080x360 with 1 Axes>"
      ]
     },
     "metadata": {
      "needs_background": "light"
     },
     "output_type": "display_data"
    }
   ],
   "source": [
    "fe_df['path'].value_counts(normalize=True).head(10).plot.bar(figsize=(15,5))\n",
    "plt.title('Top 10 Lessons Accessed for Web Dev - Front End')\n",
    "plt.xticks(rotation=0)\n",
    "plt.xlabel('Lesson Path')\n",
    "plt.ylabel('Proportion of Request')"
   ]
  },
  {
   "cell_type": "markdown",
   "id": "83ed716d",
   "metadata": {},
   "source": [
    "### Top 10 Lessons Accessed for Web Dev - Front End = content/html-css"
   ]
  },
  {
   "cell_type": "code",
   "execution_count": 55,
   "id": "6f360061",
   "metadata": {},
   "outputs": [
    {
     "data": {
      "text/plain": [
       "content/html-css                               0.666667\n",
       "content/html-css/gitbook/images/favicon.ico    0.333333\n",
       "Name: path, dtype: float64"
      ]
     },
     "execution_count": 55,
     "metadata": {},
     "output_type": "execute_result"
    }
   ],
   "source": [
    "fe_df['path'].value_counts(normalize=True).head(10)"
   ]
  },
  {
   "cell_type": "markdown",
   "id": "07224dae",
   "metadata": {},
   "source": [
    "### Data Science"
   ]
  },
  {
   "cell_type": "code",
   "execution_count": 56,
   "id": "bd9e95b9",
   "metadata": {},
   "outputs": [
    {
     "data": {
      "text/plain": [
       "Text(0, 0.5, 'Proportion of Request')"
      ]
     },
     "execution_count": 56,
     "metadata": {},
     "output_type": "execute_result"
    },
    {
     "data": {
      "image/png": "[encoded data removed]",
      "text/plain": [
       "<Figure size 1080x360 with 1 Axes>"
      ]
     },
     "metadata": {
      "needs_background": "light"
     },
     "output_type": "display_data"
    }
   ],
   "source": [
    "ds_df['path'].value_counts(normalize=True).head(10).plot.bar(figsize=(15,5))\n",
    "plt.title('Top 10 Lessons Accessed for Data Science')\n",
    "plt.xticks(rotation=70)\n",
    "plt.xlabel('Lesson Path')\n",
    "plt.ylabel('Proportion of Request')"
   ]
  },
  {
   "cell_type": "markdown",
   "id": "77dae4a4",
   "metadata": {},
   "source": [
    "### Top 10 Lessons Accessed for Data Science = classification/overview"
   ]
  },
  {
   "cell_type": "code",
   "execution_count": 57,
   "id": "6b2f3fe0",
   "metadata": {},
   "outputs": [
    {
     "data": {
      "text/plain": [
       "classification/overview                     1785\n",
       "1-fundamentals/1.1-intro-to-data-science    1633\n",
       "sql/mysql-overview                          1424\n",
       "fundamentals/intro-to-data-science          1413\n",
       "6-regression/1-overview                     1124\n",
       "anomaly-detection/overview                   804\n",
       "10-anomaly-detection/1-overview              751\n",
       "3-sql/1-mysql-overview                       707\n",
       "stats/compare-means                          668\n",
       "python/data-types-and-variables              667\n",
       "Name: path, dtype: int64"
      ]
     },
     "execution_count": 57,
     "metadata": {},
     "output_type": "execute_result"
    }
   ],
   "source": [
    "ds_df['path'].value_counts(normalize=False).head(10)"
   ]
  },
  {
   "cell_type": "markdown",
   "id": "abae1a4f",
   "metadata": {},
   "source": [
    "### Top 10 Lessons Accessed Across All Programs = javascript-i\n",
    "### Top 10 Lessons Accessed for Web Dev - PHP Full Stack = javascript-i\n",
    "### Top 10 Lessons Accessed for Web Dev - Java Full Stack = javascript-i\n",
    "### Top 10 Lessons Accessed for Web Dev - Front End = content/html-css\n",
    "### Top 10 Lessons Accessed for Data Science = classification/overview\n",
    "***************************\n",
    "\n",
    "# 2. Is there a cohort that referred to a lesson significantly more than other cohorts seemed to gloss over?"
   ]
  },
  {
   "cell_type": "code",
   "execution_count": 82,
   "id": "570ee383",
   "metadata": {},
   "outputs": [
    {
     "data": {
      "text/plain": [
       "name       path                 \n",
       "Andromeda  toc                      638\n",
       "           javascript-i             516\n",
       "           spring                   487\n",
       "           java-iii                 433\n",
       "           java-ii                  398\n",
       "                                   ... \n",
       "Zion       student/850                1\n",
       "           web-design/intro           1\n",
       "           web-design/ui/visuals      1\n",
       "           web-design/ux/layout       1\n",
       "           web-design/ux/purpose      1\n",
       "Name: path, Length: 11693, dtype: int64"
      ]
     },
     "execution_count": 82,
     "metadata": {},
     "output_type": "execute_result"
    }
   ],
   "source": [
    "df1.groupby('name').path.value_counts()"
   ]
  },
  {
   "cell_type": "code",
   "execution_count": 76,
   "id": "f8920035",
   "metadata": {},
   "outputs": [
    {
     "data": {
      "text/html": [
       "<div>\n",
       "<style scoped>\n",
       "    .dataframe tbody tr th:only-of-type {\n",
       "        vertical-align: middle;\n",
       "    }\n",
       "\n",
       "    .dataframe tbody tr th {\n",
       "        vertical-align: top;\n",
       "    }\n",
       "\n",
       "    .dataframe thead th {\n",
       "        text-align: right;\n",
       "    }\n",
       "</style>\n",
       "<table border=\"1\" class=\"dataframe\">\n",
       "  <thead>\n",
       "    <tr style=\"text-align: right;\">\n",
       "      <th></th>\n",
       "      <th>cohort_id</th>\n",
       "      <th>path</th>\n",
       "      <th>proba_path_given_cohort_id</th>\n",
       "    </tr>\n",
       "  </thead>\n",
       "  <tbody>\n",
       "    <tr>\n",
       "      <th>0</th>\n",
       "      <td>1.0</td>\n",
       "      <td>/</td>\n",
       "      <td>0.070416</td>\n",
       "    </tr>\n",
       "    <tr>\n",
       "      <th>1</th>\n",
       "      <td>1.0</td>\n",
       "      <td>javascript-i</td>\n",
       "      <td>0.033071</td>\n",
       "    </tr>\n",
       "    <tr>\n",
       "      <th>2</th>\n",
       "      <td>1.0</td>\n",
       "      <td>html-css</td>\n",
       "      <td>0.024184</td>\n",
       "    </tr>\n",
       "    <tr>\n",
       "      <th>3</th>\n",
       "      <td>1.0</td>\n",
       "      <td>javascript-ii</td>\n",
       "      <td>0.022947</td>\n",
       "    </tr>\n",
       "    <tr>\n",
       "      <th>4</th>\n",
       "      <td>1.0</td>\n",
       "      <td>spring</td>\n",
       "      <td>0.021597</td>\n",
       "    </tr>\n",
       "    <tr>\n",
       "      <th>5</th>\n",
       "      <td>1.0</td>\n",
       "      <td>java-ii</td>\n",
       "      <td>0.018785</td>\n",
       "    </tr>\n",
       "    <tr>\n",
       "      <th>6</th>\n",
       "      <td>1.0</td>\n",
       "      <td>java-iii</td>\n",
       "      <td>0.017210</td>\n",
       "    </tr>\n",
       "    <tr>\n",
       "      <th>7</th>\n",
       "      <td>1.0</td>\n",
       "      <td>appendix</td>\n",
       "      <td>0.014961</td>\n",
       "    </tr>\n",
       "    <tr>\n",
       "      <th>8</th>\n",
       "      <td>1.0</td>\n",
       "      <td>jquery</td>\n",
       "      <td>0.014961</td>\n",
       "    </tr>\n",
       "    <tr>\n",
       "      <th>9</th>\n",
       "      <td>1.0</td>\n",
       "      <td>java-i</td>\n",
       "      <td>0.014848</td>\n",
       "    </tr>\n",
       "    <tr>\n",
       "      <th>10</th>\n",
       "      <td>1.0</td>\n",
       "      <td>spring/fundamentals/views</td>\n",
       "      <td>0.011024</td>\n",
       "    </tr>\n",
       "    <tr>\n",
       "      <th>11</th>\n",
       "      <td>1.0</td>\n",
       "      <td>javascript-ii/npm</td>\n",
       "      <td>0.010799</td>\n",
       "    </tr>\n",
       "    <tr>\n",
       "      <th>12</th>\n",
       "      <td>1.0</td>\n",
       "      <td>mysql</td>\n",
       "      <td>0.010686</td>\n",
       "    </tr>\n",
       "    <tr>\n",
       "      <th>13</th>\n",
       "      <td>1.0</td>\n",
       "      <td>html-css/elements</td>\n",
       "      <td>0.009786</td>\n",
       "    </tr>\n",
       "    <tr>\n",
       "      <th>14</th>\n",
       "      <td>1.0</td>\n",
       "      <td>javascript-ii/promises</td>\n",
       "      <td>0.009561</td>\n",
       "    </tr>\n",
       "    <tr>\n",
       "      <th>15</th>\n",
       "      <td>1.0</td>\n",
       "      <td>spring/fundamentals/controllers</td>\n",
       "      <td>0.009224</td>\n",
       "    </tr>\n",
       "    <tr>\n",
       "      <th>16</th>\n",
       "      <td>1.0</td>\n",
       "      <td>javascript-i/conditionals</td>\n",
       "      <td>0.009111</td>\n",
       "    </tr>\n",
       "    <tr>\n",
       "      <th>17</th>\n",
       "      <td>1.0</td>\n",
       "      <td>java-iii/mvc</td>\n",
       "      <td>0.008999</td>\n",
       "    </tr>\n",
       "    <tr>\n",
       "      <th>18</th>\n",
       "      <td>1.0</td>\n",
       "      <td>java-iii/jsp-and-jstl</td>\n",
       "      <td>0.008774</td>\n",
       "    </tr>\n",
       "    <tr>\n",
       "      <th>19</th>\n",
       "      <td>1.0</td>\n",
       "      <td>javascript-i/loops</td>\n",
       "      <td>0.008774</td>\n",
       "    </tr>\n",
       "  </tbody>\n",
       "</table>\n",
       "</div>"
      ],
      "text/plain": [
       "    cohort_id                             path  proba_path_given_cohort_id\n",
       "0         1.0                                /                    0.070416\n",
       "1         1.0                     javascript-i                    0.033071\n",
       "2         1.0                         html-css                    0.024184\n",
       "3         1.0                    javascript-ii                    0.022947\n",
       "4         1.0                           spring                    0.021597\n",
       "5         1.0                          java-ii                    0.018785\n",
       "6         1.0                         java-iii                    0.017210\n",
       "7         1.0                         appendix                    0.014961\n",
       "8         1.0                           jquery                    0.014961\n",
       "9         1.0                           java-i                    0.014848\n",
       "10        1.0        spring/fundamentals/views                    0.011024\n",
       "11        1.0                javascript-ii/npm                    0.010799\n",
       "12        1.0                            mysql                    0.010686\n",
       "13        1.0                html-css/elements                    0.009786\n",
       "14        1.0           javascript-ii/promises                    0.009561\n",
       "15        1.0  spring/fundamentals/controllers                    0.009224\n",
       "16        1.0        javascript-i/conditionals                    0.009111\n",
       "17        1.0                     java-iii/mvc                    0.008999\n",
       "18        1.0            java-iii/jsp-and-jstl                    0.008774\n",
       "19        1.0               javascript-i/loops                    0.008774"
      ]
     },
     "execution_count": 76,
     "metadata": {},
     "output_type": "execute_result"
    }
   ],
   "source": [
    "path_given_cohort_id = (\n",
    "    df.groupby('cohort_id')\n",
    "    .path.value_counts(normalize=True)\n",
    "    .rename('proba_path_given_cohort_id')\n",
    "    .reset_index()\n",
    ")\n",
    "path_given_cohort_id.head(20)"
   ]
  },
  {
   "cell_type": "markdown",
   "id": "617fc93a",
   "metadata": {},
   "source": [
    "### 2. Answer = Andromada Cohort viewing javascript-i\n",
    "\n",
    "****************************\n",
    "\n",
    "## 3. Are there students who, when active, hardly access the curriculum? If so, what information do you have about these students?"
   ]
  },
  {
   "cell_type": "code",
   "execution_count": 69,
   "id": "221089ed",
   "metadata": {},
   "outputs": [],
   "source": [
    "def value_counts_and_frequencies(s: pd.Series, dropna=True) -> pd.DataFrame:\n",
    "    return pd.merge(\n",
    "        s.value_counts(dropna=False).rename('count'),\n",
    "        s.value_counts(dropna=False, normalize=True).rename('proba'),\n",
    "        left_index=True,\n",
    "        right_index=True,\n",
    "    )"
   ]
  },
  {
   "cell_type": "code",
   "execution_count": 77,
   "id": "899fefa7",
   "metadata": {},
   "outputs": [
    {
     "data": {
      "text/html": [
       "<div>\n",
       "<style scoped>\n",
       "    .dataframe tbody tr th:only-of-type {\n",
       "        vertical-align: middle;\n",
       "    }\n",
       "\n",
       "    .dataframe tbody tr th {\n",
       "        vertical-align: top;\n",
       "    }\n",
       "\n",
       "    .dataframe thead th {\n",
       "        text-align: right;\n",
       "    }\n",
       "</style>\n",
       "<table border=\"1\" class=\"dataframe\">\n",
       "  <thead>\n",
       "    <tr style=\"text-align: right;\">\n",
       "      <th></th>\n",
       "      <th>count</th>\n",
       "      <th>proba</th>\n",
       "    </tr>\n",
       "  </thead>\n",
       "  <tbody>\n",
       "    <tr>\n",
       "      <th>Staff</th>\n",
       "      <td>84031</td>\n",
       "      <td>0.099172</td>\n",
       "    </tr>\n",
       "    <tr>\n",
       "      <th>Ceres</th>\n",
       "      <td>40730</td>\n",
       "      <td>0.048069</td>\n",
       "    </tr>\n",
       "    <tr>\n",
       "      <th>Zion</th>\n",
       "      <td>38096</td>\n",
       "      <td>0.044960</td>\n",
       "    </tr>\n",
       "    <tr>\n",
       "      <th>Jupiter</th>\n",
       "      <td>37109</td>\n",
       "      <td>0.043795</td>\n",
       "    </tr>\n",
       "    <tr>\n",
       "      <th>Fortuna</th>\n",
       "      <td>36902</td>\n",
       "      <td>0.043551</td>\n",
       "    </tr>\n",
       "  </tbody>\n",
       "</table>\n",
       "</div>"
      ],
      "text/plain": [
       "         count     proba\n",
       "Staff    84031  0.099172\n",
       "Ceres    40730  0.048069\n",
       "Zion     38096  0.044960\n",
       "Jupiter  37109  0.043795\n",
       "Fortuna  36902  0.043551"
      ]
     },
     "execution_count": 77,
     "metadata": {},
     "output_type": "execute_result"
    }
   ],
   "source": [
    "rp_df = value_counts_and_frequencies(df.name)\n",
    "rp_df.head()"
   ]
  },
  {
   "cell_type": "code",
   "execution_count": 78,
   "id": "e6b34a78",
   "metadata": {},
   "outputs": [
    {
     "data": {
      "text/plain": [
       "<AxesSubplot:>"
      ]
     },
     "execution_count": 78,
     "metadata": {},
     "output_type": "execute_result"
    },
    {
     "data": {
      "image/png": "[encoded data removed]",
      "text/plain": [
       "<Figure size 360x360 with 1 Axes>"
      ]
     },
     "metadata": {
      "needs_background": "light"
     },
     "output_type": "display_data"
    }
   ],
   "source": [
    "rp_df['count'].sort_values().tail(5).plot.barh(figsize=(5, 5))"
   ]
  },
  {
   "cell_type": "markdown",
   "id": "6da2d416",
   "metadata": {},
   "source": [
    "## 7. Which lessons are least accessed?"
   ]
  },
  {
   "cell_type": "code",
   "execution_count": 91,
   "id": "ecdccbd4",
   "metadata": {},
   "outputs": [
    {
     "data": {
      "text/plain": [
       "Text(0, 0.5, 'Proportion of Request')"
      ]
     },
     "execution_count": 91,
     "metadata": {},
     "output_type": "execute_result"
    },
    {
     "data": {
      "image/png": "[encoded data removed]",
      "text/plain": [
       "<Figure size 1080x360 with 1 Axes>"
      ]
     },
     "metadata": {
      "needs_background": "light"
     },
     "output_type": "display_data"
    }
   ],
   "source": [
    "df1['path'].value_counts().tail(10).plot.barh(figsize=(15,5))\n",
    "plt.title('Bottom 10 Lessons Accessed Across All Programs')\n",
    "#plt.xticks(rotation=70)\n",
    "plt.xlabel('Lesson Path')\n",
    "plt.ylabel('Proportion of Request')"
   ]
  },
  {
   "cell_type": "markdown",
   "id": "75485559",
   "metadata": {},
   "source": [
    "### Bottom 10 Lessons Accessed Across All Programs - But not all are Codeup programs"
   ]
  },
  {
   "cell_type": "code",
   "execution_count": 93,
   "id": "cd5a7837",
   "metadata": {},
   "outputs": [
    {
     "data": {
      "text/plain": [
       "java-iii/sessions-and-cookies/style/css    1\n",
       "appendix/www.opensecrets.org               1\n",
       "bom-and-dom/dom-events                     1\n",
       "content/examples/php/arithmetic.php        1\n",
       "ltc-python                                 1\n",
       "further-reading/javascript/array-splice    1\n",
       "PreWork/PreWork/cli                        1\n",
       "studentx                                   1\n",
       "4-stats/2.2-probability_distributions      1\n",
       "where                                      1\n",
       "Name: path, dtype: int64"
      ]
     },
     "execution_count": 93,
     "metadata": {},
     "output_type": "execute_result"
    }
   ],
   "source": [
    "df1['path'].value_counts().tail(10)"
   ]
  },
  {
   "cell_type": "code",
   "execution_count": null,
   "id": "ddadbfa6",
   "metadata": {},
   "outputs": [],
   "source": []
  },
  {
   "cell_type": "code",
   "execution_count": null,
   "id": "21089323",
   "metadata": {},
   "outputs": [],
   "source": []
  },
  {
   "cell_type": "code",
   "execution_count": null,
   "id": "c2c71cfb",
   "metadata": {},
   "outputs": [],
   "source": []
  },
  {
   "cell_type": "code",
   "execution_count": 68,
   "id": "aeaffc26",
   "metadata": {},
   "outputs": [
    {
     "data": {
      "text/plain": [
       "path                                     cohort_id  proba_status_given_path\n",
       "%20https://github.com/RaulCPena          55.0       1.000000                   1\n",
       "javascript-i/bom-and-dom                 11.0       0.000475                   1\n",
       "javascript-i/arrays/manipulating         25.0       0.042043                   1\n",
       "                                         26.0       0.041275                   1\n",
       "                                         27.0       0.032252                   1\n",
       "                                                                              ..\n",
       "content/html-css/css-i/positioning.html  19.0       0.086957                   1\n",
       "                                         22.0       0.086957                   1\n",
       "                                         23.0       0.043478                   1\n",
       "                                         27.0       0.043478                   1\n",
       "wp-login                                 22.0       1.000000                   1\n",
       "Length: 13565, dtype: int64"
      ]
     },
     "execution_count": 68,
     "metadata": {},
     "output_type": "execute_result"
    }
   ],
   "source": [
    "cohort_given_path = (\n",
    "    df.groupby('path')\n",
    "    .cohort_id.value_counts(normalize=True)\n",
    "    .rename('proba_status_given_path')\n",
    "    .reset_index()\n",
    ")\n",
    "cohort_given_path.value_counts()"
   ]
  },
  {
   "cell_type": "code",
   "execution_count": 72,
   "id": "8af783f9",
   "metadata": {},
   "outputs": [
    {
     "data": {
      "image/png": "[encoded data removed]",
      "text/plain": [
       "<Figure size 432x288 with 1 Axes>"
      ]
     },
     "metadata": {
      "needs_background": "light"
     },
     "output_type": "display_data"
    },
    {
     "data": {
      "image/png": "[encoded data removed]",
      "text/plain": [
       "<Figure size 432x288 with 1 Axes>"
      ]
     },
     "metadata": {
      "needs_background": "light"
     },
     "output_type": "display_data"
    },
    {
     "data": {
      "image/png": "[encoded data removed]",
      "text/plain": [
       "<Figure size 432x288 with 1 Axes>"
      ]
     },
     "metadata": {
      "needs_background": "light"
     },
     "output_type": "display_data"
    },
    {
     "data": {
      "image/png": "[encoded data removed]",
      "text/plain": [
       "<Figure size 432x288 with 1 Axes>"
      ]
     },
     "metadata": {
      "needs_background": "light"
     },
     "output_type": "display_data"
    },
    {
     "data": {
      "image/png": "[encoded data removed]",
      "text/plain": [
       "<Figure size 432x288 with 1 Axes>"
      ]
     },
     "metadata": {
      "needs_background": "light"
     },
     "output_type": "display_data"
    },
    {
     "data": {
      "image/png": "[encoded data removed]",
      "text/plain": [
       "<Figure size 432x288 with 1 Axes>"
      ]
     },
     "metadata": {
      "needs_background": "light"
     },
     "output_type": "display_data"
    },
    {
     "data": {
      "image/png": "[encoded data removed]",
      "text/plain": [
       "<Figure size 432x288 with 1 Axes>"
      ]
     },
     "metadata": {
      "needs_background": "light"
     },
     "output_type": "display_data"
    },
    {
     "data": {
      "image/png": "[encoded data removed]",
      "text/plain": [
       "<Figure size 432x288 with 1 Axes>"
      ]
     },
     "metadata": {
      "needs_background": "light"
     },
     "output_type": "display_data"
    },
    {
     "data": {
      "image/png": "[encoded data removed]",
      "text/plain": [
       "<Figure size 432x288 with 1 Axes>"
      ]
     },
     "metadata": {
      "needs_background": "light"
     },
     "output_type": "display_data"
    },
    {
     "data": {
      "image/png": "[encoded data removed]",
      "text/plain": [
       "<Figure size 432x288 with 1 Axes>"
      ]
     },
     "metadata": {
      "needs_background": "light"
     },
     "output_type": "display_data"
    }
   ],
   "source": [
    "for col in df.columns:\n",
    "    plt.figure()\n",
    "    df[col].value_counts().sort_values(ascending = False).head(10).plot.barh(title = col)"
   ]
  },
  {
   "cell_type": "code",
   "execution_count": null,
   "id": "4d87271c",
   "metadata": {},
   "outputs": [],
   "source": [
    "#cohort_given_path[cohort_given_path.proba_status_given_path < 1]"
   ]
  },
  {
   "cell_type": "code",
   "execution_count": 73,
   "id": "a9a8817b",
   "metadata": {
    "scrolled": false
   },
   "outputs": [
    {
     "data": {
      "image/png": "[encoded data removed]",
      "text/plain": [
       "<Figure size 1152x432 with 1 Axes>"
      ]
     },
     "metadata": {
      "needs_background": "light"
     },
     "output_type": "display_data"
    },
    {
     "data": {
      "image/png": "[encoded data removed]",
      "text/plain": [
       "<Figure size 1152x432 with 1 Axes>"
      ]
     },
     "metadata": {
      "needs_background": "light"
     },
     "output_type": "display_data"
    },
    {
     "data": {
      "image/png": "[encoded data removed]",
      "text/plain": [
       "<Figure size 1152x432 with 1 Axes>"
      ]
     },
     "metadata": {
      "needs_background": "light"
     },
     "output_type": "display_data"
    },
    {
     "data": {
      "image/png": "[encoded data removed]",
      "text/plain": [
       "<Figure size 1152x432 with 1 Axes>"
      ]
     },
     "metadata": {
      "needs_background": "light"
     },
     "output_type": "display_data"
    },
    {
     "data": {
      "image/png": "[encoded data removed]",
      "text/plain": [
       "<Figure size 1152x432 with 1 Axes>"
      ]
     },
     "metadata": {
      "needs_background": "light"
     },
     "output_type": "display_data"
    },
    {
     "data": {
      "image/png": "[encoded data removed]",
      "text/plain": [
       "<Figure size 1152x432 with 1 Axes>"
      ]
     },
     "metadata": {
      "needs_background": "light"
     },
     "output_type": "display_data"
    },
    {
     "data": {
      "image/png": "[encoded data removed]",
      "text/plain": [
       "<Figure size 1152x432 with 1 Axes>"
      ]
     },
     "metadata": {
      "needs_background": "light"
     },
     "output_type": "display_data"
    },
    {
     "data": {
      "image/png": "[encoded data removed]",
      "text/plain": [
       "<Figure size 1152x432 with 1 Axes>"
      ]
     },
     "metadata": {
      "needs_background": "light"
     },
     "output_type": "display_data"
    },
    {
     "data": {
      "image/png": "[encoded data removed]",
      "text/plain": [
       "<Figure size 1152x432 with 1 Axes>"
      ]
     },
     "metadata": {
      "needs_background": "light"
     },
     "output_type": "display_data"
    },
    {
     "data": {
      "image/png": "[encoded data removed]",
      "text/plain": [
       "<Figure size 1152x432 with 1 Axes>"
      ]
     },
     "metadata": {
      "needs_background": "light"
     },
     "output_type": "display_data"
    }
   ],
   "source": [
    "for col in df.columns:\n",
    "    plt.figure(figsize=(16, 6))\n",
    "    splot = sns.barplot(x='index', y=col, data=df[col].value_counts(normalize=True).reset_index().sort_values(\n",
    "        by=col, ascending=False).head(10))\n",
    "    for p in splot.patches:\n",
    "        splot.annotate(format(p.get_height() * 100, '.1f') + ' %', \n",
    "                   (p.get_x() + p.get_width() / 2., p.get_height()), \n",
    "                   ha = 'center', va = 'center', \n",
    "                   size=10,\n",
    "                   xytext = (0, 8), \n",
    "                   textcoords = 'offset points')\n",
    "    plt.xticks(rotation=15)\n",
    "    plt.title(col.title())\n",
    "    plt.ylabel('probability')\n",
    "    plt.show()"
   ]
  },
  {
   "cell_type": "code",
   "execution_count": null,
   "id": "d355239d",
   "metadata": {},
   "outputs": [],
   "source": [
    "cohort_given_path = (\n",
    "    df.groupby('path')\n",
    "    .cohort_id.value_counts(normalize=True)\n",
    "    .rename('proba_status_given_path')\n",
    "    .reset_index()\n",
    ")\n",
    "cohort_given_path.head"
   ]
  },
  {
   "cell_type": "code",
   "execution_count": null,
   "id": "296e7376",
   "metadata": {},
   "outputs": [],
   "source": [
    "#df2 = df[[\"cohort_id\", \"name\"]]\n"
   ]
  },
  {
   "cell_type": "code",
   "execution_count": null,
   "id": "ab025ad8",
   "metadata": {},
   "outputs": [],
   "source": [
    "#df2.value_counts()"
   ]
  },
  {
   "cell_type": "code",
   "execution_count": null,
   "id": "d16d0970",
   "metadata": {},
   "outputs": [],
   "source": [
    "#pd.read_sql('SELECT * FROM cohorts', url)"
   ]
  },
  {
   "cell_type": "code",
   "execution_count": null,
   "id": "62162ed1",
   "metadata": {},
   "outputs": [],
   "source": [
    "#df = df[df.cohort_id.isin([59, 133, 137])]"
   ]
  },
  {
   "cell_type": "code",
   "execution_count": null,
   "id": "70230b22",
   "metadata": {},
   "outputs": [],
   "source": [
    "#cohort_requests = df.groupby('cohort_id').resample('W').size().unstack(0)\n",
    "cohort_requests.head()"
   ]
  },
  {
   "cell_type": "code",
   "execution_count": null,
   "id": "05e2e04f",
   "metadata": {},
   "outputs": [],
   "source": [
    "#cohort_requests.plot()"
   ]
  }
 ],
 "metadata": {
  "kernelspec": {
   "display_name": "Python 3.8.8 64-bit ('base': conda)",
   "language": "python",
   "name": "python388jvsc74a57bd0b64057e63add2b45b1ffc7eab9b09c8889b419c878e2fdf0d08f837f0fc857a7"
  },
  "language_info": {
   "codemirror_mode": {
    "name": "ipython",
    "version": 3
   },
   "file_extension": ".py",
   "mimetype": "text/x-python",
   "name": "python",
   "nbconvert_exporter": "python",
   "pygments_lexer": "ipython3",
   "version": "3.8.8"
  }
 },
 "nbformat": 4,
 "nbformat_minor": 5
}
